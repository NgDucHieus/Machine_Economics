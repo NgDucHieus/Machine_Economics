{
 "cells": [
  {
   "cell_type": "markdown",
   "metadata": {
    "id": "mdcsQiuE2QFS"
   },
   "source": [
    "# **1. Dataset Introduction**: Marketing Campaign"
   ]
  },
  {
   "cell_type": "markdown",
   "metadata": {
    "id": "vL49Gtvb2cVA"
   },
   "source": [
    "- **Acknoledgement**: This dataset is sourced from the book \"*Business Analytics Using SAS Enterprise Guide and SAS Enterprise Miner*\" by O. Parr-Rud (SAS Institute, 2014).\n"
   ]
  },
  {
   "cell_type": "markdown",
   "metadata": {
    "id": "bXCGRCNsXVuq"
   },
   "source": [
    "## **A. Context**\n",
    "* **Why is this problem important to solve?**\n",
    "\n",
    "This problem is important to solve because customer segmentation is a crucial aspect of marketing operations for businesses and organizations. By dividing a dataset of customers into groups of similar customers based on specific common characteristics, we can better understand the various needs and motivations of customers. Customer segmentation allows businesses and organizations to achieve efficient marketing efforts and obtain better return on investment because it allows them to know how to effectively use their money, time, and other resources to target the correct customer groups and create a personalized experience."
   ]
  },
  {
   "cell_type": "markdown",
   "metadata": {
    "id": "tYwgJTHzXjua"
   },
   "source": [
    "### **The objectives**\n",
    "* **What is the intended goal?**\n",
    "\n",
    "The intended goal of customer segmentation is to divide the dataset of customers into groups based on certain common characteristics. The customer groups created will highlight the unique needs, motivations, and interests, which can then be used by businesses and organizations to implement an efficient marketing strategy."
   ]
  },
  {
   "cell_type": "markdown",
   "metadata": {
    "id": "e2IHG3zbYLKk"
   },
   "source": [
    "### **The key questions**\n",
    "* **What are the key questions that need to be answered?**\n",
    "\n",
    "The key questions that need to be answered include the following:\n",
    "\n",
    "1. Are there any issues with the data that we need to address before analyzing?\n",
    "2. Which variables should we use for clustering?\n",
    "3. What characteristics are common among the customers in the dataset to create customer groups?\n",
    "4. What variables can we create to further analyze the data?"
   ]
  },
  {
   "cell_type": "markdown",
   "metadata": {
    "id": "p_AQlUlRYnE6"
   },
   "source": [
    "### **The problem formulation**\n",
    "- **What is it that we are trying to solve using data science?**\n",
    "\n",
    "We are trying to create customer groups based on similar characteristics among the customers in the dataset so we can effectively target customer segments and create customized communications and offerings."
   ]
  },
  {
   "cell_type": "markdown",
   "metadata": {
    "id": "TGhuBL14UHTW"
   },
   "source": [
    "## **B. Dataset Description**\n",
    "The dataset could be divided into 4 groups as below:\n",
    "\n",
    "**1. Customer**\n",
    "  - ID: Unique customer identifier\n",
    "  - Year_Birth: Customer's year of birth\n",
    "  - Education: Customer's level of education\n",
    "  - Marital_Status: Customer's marital status\n",
    "  - Income: Customer's annual household income\n",
    "  - Kidhome: Number of children in the household\n",
    "  - Teenhome: Number of teenagers in the household\n",
    "  - Dt_Customer: Date the customer enrolled with the company\n",
    "  - Recency: Number of days since the last purchase\n",
    "  - Complain: Indicates if the customer filed a complaint in the last 2 years (1 = Yes, 0 = No)\n",
    "\n",
    "**2. Products**\n",
    "- MntWines: Amount spent on wine in the last 2 years\n",
    "- MntFruits: Amount spent on fruits in the last 2 years\n",
    "- MntMeatProducts: Amount spent on meat products in the last 2 years\n",
    "- MntFishProducts: Amount spent on fish products in the last 2 years\n",
    "- MntSweetProducts: Amount spent on sweets in the last 2 years\n",
    "- MntGoldProds: Amount spent on gold products in the last 2 years\n",
    "\n",
    "**3. Promotion**\n",
    "- NumDealsPurchases: Number of purchases made with a discount\n",
    "- AcceptedCmp1: Accepted the offer in the 1st campaign (1 = Yes, 0 = No)\n",
    "- AcceptedCmp2: Accepted the offer in the 2nd campaign (1 = Yes, 0 = No)\n",
    "- AcceptedCmp3: Accepted the offer in the 3rd campaign (1 = Yes, 0 = No)\n",
    "- AcceptedCmp4: Accepted the offer in the 4th campaign (1 = Yes, 0 = No)\n",
    "- AcceptedCmp5: Accepted the offer in the 5th campaign (1 = Yes, 0 = No)\n",
    "- Response: Accepted the offer in the last campaign (1 = Yes, 0 = No)\n",
    "\n",
    "**4. Place**\n",
    "- NumWebPurchases: Number of purchases made through the company’s website\n",
    "- NumCatalogPurchases: Number of purchases made via catalogues\n",
    "- NumStorePurchases: Number of purchases made in stores\n",
    "- NumWebVisitsMonth: Number of website visits in the last month"
   ]
  },
  {
   "cell_type": "markdown",
   "metadata": {
    "id": "nuXRL1lVPyJK"
   },
   "source": [
    "# **2. Exploratory Data Analysis**"
   ]
  },
  {
   "cell_type": "markdown",
   "metadata": {
    "id": "hq3AMpMc-WBz"
   },
   "source": [
    "## **A. Data Cleaning**\n",
    "In this **section A**, we're going to:\n",
    "\n",
    "*   Import and summarize information about the dataset\n",
    "*   Find any missing values and decide what to do with rows with missing values\n"
   ]
  },
  {
   "cell_type": "code",
   "execution_count": 42,
   "metadata": {
    "id": "RxsVOEvWMX8h"
   },
   "outputs": [],
   "source": [
    "import numpy as np\n",
    "import pandas as pd\n",
    "import matplotlib.pyplot as plt\n",
    "import seaborn as sns\n",
    "from datetime import datetime\n",
    "from sklearn.preprocessing import LabelEncoder\n",
    "from matplotlib.colors import ListedColormap\n",
    "from matplotlib import colors\n",
    "from sklearn.decomposition import PCA\n",
    "import sweetviz as sv\n"
   ]
  },
  {
   "cell_type": "code",
   "execution_count": 43,
   "metadata": {
    "id": "9ZkIgYDiPywM"
   },
   "outputs": [],
   "source": [
    "df = pd.read_csv(\"marketing_campaign.csv\", sep=\"\\t\")"
   ]
  },
  {
   "cell_type": "code",
   "execution_count": 44,
   "metadata": {
    "colab": {
     "base_uri": "https://localhost:8080/",
     "height": 256
    },
    "id": "wmLOFQtGN2Pi",
    "outputId": "f9716af4-3eb3-4f62-f904-3e5ba4a479b1"
   },
   "outputs": [
    {
     "data": {
      "text/html": [
       "<div>\n",
       "<style scoped>\n",
       "    .dataframe tbody tr th:only-of-type {\n",
       "        vertical-align: middle;\n",
       "    }\n",
       "\n",
       "    .dataframe tbody tr th {\n",
       "        vertical-align: top;\n",
       "    }\n",
       "\n",
       "    .dataframe thead th {\n",
       "        text-align: right;\n",
       "    }\n",
       "</style>\n",
       "<table border=\"1\" class=\"dataframe\">\n",
       "  <thead>\n",
       "    <tr style=\"text-align: right;\">\n",
       "      <th></th>\n",
       "      <th>ID</th>\n",
       "      <th>Year_Birth</th>\n",
       "      <th>Education</th>\n",
       "      <th>Marital_Status</th>\n",
       "      <th>Income</th>\n",
       "      <th>Kidhome</th>\n",
       "      <th>Teenhome</th>\n",
       "      <th>Dt_Customer</th>\n",
       "      <th>Recency</th>\n",
       "      <th>MntWines</th>\n",
       "      <th>...</th>\n",
       "      <th>NumWebVisitsMonth</th>\n",
       "      <th>AcceptedCmp3</th>\n",
       "      <th>AcceptedCmp4</th>\n",
       "      <th>AcceptedCmp5</th>\n",
       "      <th>AcceptedCmp1</th>\n",
       "      <th>AcceptedCmp2</th>\n",
       "      <th>Complain</th>\n",
       "      <th>Z_CostContact</th>\n",
       "      <th>Z_Revenue</th>\n",
       "      <th>Response</th>\n",
       "    </tr>\n",
       "  </thead>\n",
       "  <tbody>\n",
       "    <tr>\n",
       "      <th>0</th>\n",
       "      <td>5524</td>\n",
       "      <td>1957</td>\n",
       "      <td>Graduation</td>\n",
       "      <td>Single</td>\n",
       "      <td>58138.0</td>\n",
       "      <td>0</td>\n",
       "      <td>0</td>\n",
       "      <td>04-09-2012</td>\n",
       "      <td>58</td>\n",
       "      <td>635</td>\n",
       "      <td>...</td>\n",
       "      <td>7</td>\n",
       "      <td>0</td>\n",
       "      <td>0</td>\n",
       "      <td>0</td>\n",
       "      <td>0</td>\n",
       "      <td>0</td>\n",
       "      <td>0</td>\n",
       "      <td>3</td>\n",
       "      <td>11</td>\n",
       "      <td>1</td>\n",
       "    </tr>\n",
       "    <tr>\n",
       "      <th>1</th>\n",
       "      <td>2174</td>\n",
       "      <td>1954</td>\n",
       "      <td>Graduation</td>\n",
       "      <td>Single</td>\n",
       "      <td>46344.0</td>\n",
       "      <td>1</td>\n",
       "      <td>1</td>\n",
       "      <td>08-03-2014</td>\n",
       "      <td>38</td>\n",
       "      <td>11</td>\n",
       "      <td>...</td>\n",
       "      <td>5</td>\n",
       "      <td>0</td>\n",
       "      <td>0</td>\n",
       "      <td>0</td>\n",
       "      <td>0</td>\n",
       "      <td>0</td>\n",
       "      <td>0</td>\n",
       "      <td>3</td>\n",
       "      <td>11</td>\n",
       "      <td>0</td>\n",
       "    </tr>\n",
       "    <tr>\n",
       "      <th>2</th>\n",
       "      <td>4141</td>\n",
       "      <td>1965</td>\n",
       "      <td>Graduation</td>\n",
       "      <td>Together</td>\n",
       "      <td>71613.0</td>\n",
       "      <td>0</td>\n",
       "      <td>0</td>\n",
       "      <td>21-08-2013</td>\n",
       "      <td>26</td>\n",
       "      <td>426</td>\n",
       "      <td>...</td>\n",
       "      <td>4</td>\n",
       "      <td>0</td>\n",
       "      <td>0</td>\n",
       "      <td>0</td>\n",
       "      <td>0</td>\n",
       "      <td>0</td>\n",
       "      <td>0</td>\n",
       "      <td>3</td>\n",
       "      <td>11</td>\n",
       "      <td>0</td>\n",
       "    </tr>\n",
       "    <tr>\n",
       "      <th>3</th>\n",
       "      <td>6182</td>\n",
       "      <td>1984</td>\n",
       "      <td>Graduation</td>\n",
       "      <td>Together</td>\n",
       "      <td>26646.0</td>\n",
       "      <td>1</td>\n",
       "      <td>0</td>\n",
       "      <td>10-02-2014</td>\n",
       "      <td>26</td>\n",
       "      <td>11</td>\n",
       "      <td>...</td>\n",
       "      <td>6</td>\n",
       "      <td>0</td>\n",
       "      <td>0</td>\n",
       "      <td>0</td>\n",
       "      <td>0</td>\n",
       "      <td>0</td>\n",
       "      <td>0</td>\n",
       "      <td>3</td>\n",
       "      <td>11</td>\n",
       "      <td>0</td>\n",
       "    </tr>\n",
       "    <tr>\n",
       "      <th>4</th>\n",
       "      <td>5324</td>\n",
       "      <td>1981</td>\n",
       "      <td>PhD</td>\n",
       "      <td>Married</td>\n",
       "      <td>58293.0</td>\n",
       "      <td>1</td>\n",
       "      <td>0</td>\n",
       "      <td>19-01-2014</td>\n",
       "      <td>94</td>\n",
       "      <td>173</td>\n",
       "      <td>...</td>\n",
       "      <td>5</td>\n",
       "      <td>0</td>\n",
       "      <td>0</td>\n",
       "      <td>0</td>\n",
       "      <td>0</td>\n",
       "      <td>0</td>\n",
       "      <td>0</td>\n",
       "      <td>3</td>\n",
       "      <td>11</td>\n",
       "      <td>0</td>\n",
       "    </tr>\n",
       "  </tbody>\n",
       "</table>\n",
       "<p>5 rows × 29 columns</p>\n",
       "</div>"
      ],
      "text/plain": [
       "     ID  Year_Birth   Education Marital_Status   Income  Kidhome  Teenhome  \\\n",
       "0  5524        1957  Graduation         Single  58138.0        0         0   \n",
       "1  2174        1954  Graduation         Single  46344.0        1         1   \n",
       "2  4141        1965  Graduation       Together  71613.0        0         0   \n",
       "3  6182        1984  Graduation       Together  26646.0        1         0   \n",
       "4  5324        1981         PhD        Married  58293.0        1         0   \n",
       "\n",
       "  Dt_Customer  Recency  MntWines  ...  NumWebVisitsMonth  AcceptedCmp3  \\\n",
       "0  04-09-2012       58       635  ...                  7             0   \n",
       "1  08-03-2014       38        11  ...                  5             0   \n",
       "2  21-08-2013       26       426  ...                  4             0   \n",
       "3  10-02-2014       26        11  ...                  6             0   \n",
       "4  19-01-2014       94       173  ...                  5             0   \n",
       "\n",
       "   AcceptedCmp4  AcceptedCmp5  AcceptedCmp1  AcceptedCmp2  Complain  \\\n",
       "0             0             0             0             0         0   \n",
       "1             0             0             0             0         0   \n",
       "2             0             0             0             0         0   \n",
       "3             0             0             0             0         0   \n",
       "4             0             0             0             0         0   \n",
       "\n",
       "   Z_CostContact  Z_Revenue  Response  \n",
       "0              3         11         1  \n",
       "1              3         11         0  \n",
       "2              3         11         0  \n",
       "3              3         11         0  \n",
       "4              3         11         0  \n",
       "\n",
       "[5 rows x 29 columns]"
      ]
     },
     "execution_count": 44,
     "metadata": {},
     "output_type": "execute_result"
    }
   ],
   "source": [
    "df.head()"
   ]
  },
  {
   "cell_type": "code",
   "execution_count": 45,
   "metadata": {
    "colab": {
     "base_uri": "https://localhost:8080/"
    },
    "id": "2Wwp2j5VRXj9",
    "outputId": "d20e0ef0-224e-4c26-cedf-050dc1d0afcb"
   },
   "outputs": [
    {
     "name": "stdout",
     "output_type": "stream",
     "text": [
      "<class 'pandas.core.frame.DataFrame'>\n",
      "RangeIndex: 2240 entries, 0 to 2239\n",
      "Data columns (total 29 columns):\n",
      " #   Column               Non-Null Count  Dtype  \n",
      "---  ------               --------------  -----  \n",
      " 0   ID                   2240 non-null   int64  \n",
      " 1   Year_Birth           2240 non-null   int64  \n",
      " 2   Education            2240 non-null   object \n",
      " 3   Marital_Status       2240 non-null   object \n",
      " 4   Income               2216 non-null   float64\n",
      " 5   Kidhome              2240 non-null   int64  \n",
      " 6   Teenhome             2240 non-null   int64  \n",
      " 7   Dt_Customer          2240 non-null   object \n",
      " 8   Recency              2240 non-null   int64  \n",
      " 9   MntWines             2240 non-null   int64  \n",
      " 10  MntFruits            2240 non-null   int64  \n",
      " 11  MntMeatProducts      2240 non-null   int64  \n",
      " 12  MntFishProducts      2240 non-null   int64  \n",
      " 13  MntSweetProducts     2240 non-null   int64  \n",
      " 14  MntGoldProds         2240 non-null   int64  \n",
      " 15  NumDealsPurchases    2240 non-null   int64  \n",
      " 16  NumWebPurchases      2240 non-null   int64  \n",
      " 17  NumCatalogPurchases  2240 non-null   int64  \n",
      " 18  NumStorePurchases    2240 non-null   int64  \n",
      " 19  NumWebVisitsMonth    2240 non-null   int64  \n",
      " 20  AcceptedCmp3         2240 non-null   int64  \n",
      " 21  AcceptedCmp4         2240 non-null   int64  \n",
      " 22  AcceptedCmp5         2240 non-null   int64  \n",
      " 23  AcceptedCmp1         2240 non-null   int64  \n",
      " 24  AcceptedCmp2         2240 non-null   int64  \n",
      " 25  Complain             2240 non-null   int64  \n",
      " 26  Z_CostContact        2240 non-null   int64  \n",
      " 27  Z_Revenue            2240 non-null   int64  \n",
      " 28  Response             2240 non-null   int64  \n",
      "dtypes: float64(1), int64(25), object(3)\n",
      "memory usage: 507.6+ KB\n"
     ]
    }
   ],
   "source": [
    "df.info()"
   ]
  },
  {
   "cell_type": "markdown",
   "metadata": {
    "id": "nKcz-OZGFm2s"
   },
   "source": [
    "=> Using the info function, we can pull the following information from the dataset :\n",
    "- **Data type**: 3 categorical variables, 26 numerical variables\n",
    "- **Missing values**: Income variable (2216) vs. others (2240)\n",
    "- **Comment**: Missing data exists only in one column and constitutes only a small proportion (24 out of 2240) of the total data, we have decided to drop these missing values since it don't significantly affect the overall integrity of the data."
   ]
  },
  {
   "cell_type": "code",
   "execution_count": 46,
   "metadata": {
    "colab": {
     "base_uri": "https://localhost:8080/"
    },
    "id": "TUa7r9KKNMMk",
    "outputId": "898d863e-96e2-49dd-a5d8-c6eed801a1a4"
   },
   "outputs": [
    {
     "data": {
      "text/plain": [
       "np.int64(0)"
      ]
     },
     "execution_count": 46,
     "metadata": {},
     "output_type": "execute_result"
    }
   ],
   "source": [
    "df = df.dropna()\n",
    "df.duplicated().sum()"
   ]
  },
  {
   "cell_type": "code",
   "execution_count": 47,
   "metadata": {
    "id": "ANthbcmzyeFo"
   },
   "outputs": [],
   "source": [
    "data = pd.read_csv(\"marketing_campaign.csv\", sep=\"\\t\")"
   ]
  },
  {
   "cell_type": "code",
   "execution_count": 48,
   "metadata": {
    "id": "CM_MBx0lyt5J"
   },
   "outputs": [],
   "source": [
    "data = data.dropna()"
   ]
  },
  {
   "cell_type": "code",
   "execution_count": 49,
   "metadata": {
    "colab": {
     "base_uri": "https://localhost:8080/",
     "height": 49,
     "referenced_widgets": [
      "bf27f6a727eb49dc9f49a2cec8a8c08a",
      "a15e7ba6ae5d48ea9dd368b9d824a223",
      "3053d58643584ff6988c698bd236b39b",
      "4404ec509c90450887e71eed9249ea3d",
      "19ab8e609b8c439690c3af7387c47e91",
      "9f3d4772e48e45f0a930a9ca4fd31fd7",
      "291555ad1df249ffbf867c9b41dc6057",
      "e4f1f29b1a894580b33fb138d6ccdc7b",
      "5e342c303ccb451e9b6f27d153fccfd0",
      "d4ee4c31b09149bf9afe9e6de444ec57",
      "d3dd60fe61094cccb93f17ed03ab4621"
     ]
    },
    "id": "p-SUqwXxlaVG",
    "outputId": "352df0d8-824d-453e-8e81-86b7ae5a2189"
   },
   "outputs": [
    {
     "data": {
      "application/vnd.jupyter.widget-view+json": {
       "model_id": "664b237143d24b338d0428e5d4222ac6",
       "version_major": 2,
       "version_minor": 0
      },
      "text/plain": [
       "                                             |          | [  0%]   00:00 -> (? left)"
      ]
     },
     "metadata": {},
     "output_type": "display_data"
    }
   ],
   "source": [
    "import warnings\n",
    "\n",
    "if not hasattr(np, 'VisibleDeprecationWarning'):\n",
    "    class VisibleDeprecationWarning(DeprecationWarning):\n",
    "        pass\n",
    "    np.VisibleDeprecationWarning = VisibleDeprecationWarning\n",
    "report = sv.analyze(df)\n"
   ]
  },
  {
   "cell_type": "code",
   "execution_count": 50,
   "metadata": {
    "colab": {
     "base_uri": "https://localhost:8080/"
    },
    "id": "L2JTxvyrwrUy",
    "outputId": "f67e5839-6f9b-40bf-bd23-9f03868e6727"
   },
   "outputs": [
    {
     "name": "stdout",
     "output_type": "stream",
     "text": [
      "Report SWEETVIZ_REPORT.html was generated! NOTEBOOK/COLAB USERS: the web browser MAY not pop up, regardless, the report IS saved in your notebook/colab files.\n"
     ]
    }
   ],
   "source": [
    "report.show_html()"
   ]
  },
  {
   "cell_type": "markdown",
   "metadata": {
    "id": "FGM0Tc9vrG6n"
   },
   "source": [
    "## **B. Feature Engineering**\n",
    "In this **section B**, we're going to:\n",
    "*   Simplify categorical data by reducing the number of unique values\n",
    " * Categorize **Marital_Status** column into \"***Relationship***\" and \"***Alone***\";\n",
    " * Categorize **Education** column into \"***Undergraduate***\" and \"***Postgraduate***\".\n",
    "*   Create new variables based on values from original dataset  \n",
    " * Create **Years_Since_Registration** to calculate the customer seniority by calculating the number of years since they joined using **DtCustomer** column;\n",
    " * Create **Age** column using the **Year_Birth** column;\n",
    " * Create **Spending** as the sum of the amount spent on the 6 product categories: **MntFishProducts**, **MntMeatProducts**, **MntFruits**, **MntSweetProducts**, **MntWines**, **MntGoldProds**;\n",
    "   * Create **Children** as the sum of the **Kidhome** and **Teenhome** columns.\n",
    "   * Creating **TotalAcceptedCmp** by adding all the campaign related variables to get the total number of accepted campaigns by a customer\n",
    "* Visualize each variable individually to understand their distributions and identify potential patterns or trends in the data.\n",
    "*   Choose certain columns to keep to reduce number of dimensions\n",
    "* Remove outliers (if needed)\n",
    "\n",
    "\n"
   ]
  },
  {
   "cell_type": "code",
   "execution_count": 51,
   "metadata": {
    "colab": {
     "base_uri": "https://localhost:8080/"
    },
    "id": "1lZoDaZyZKk5",
    "outputId": "36f7981c-1f7e-452c-efad-57683d897169"
   },
   "outputs": [
    {
     "name": "stdout",
     "output_type": "stream",
     "text": [
      "Unique values in Marital_Status are :\n",
      "8\n",
      "**************************************************\n",
      "Unique values in Education are :\n",
      "5\n",
      "**************************************************\n",
      "Unique values in Kidhome are :\n",
      "3\n",
      "**************************************************\n",
      "Unique values in Teenhome are :\n",
      "3\n",
      "**************************************************\n",
      "Unique values in Complain are :\n",
      "2\n",
      "**************************************************\n"
     ]
    }
   ],
   "source": [
    "# List of the categorical columns in the data\n",
    "cols = [\"Marital_Status\", \"Education\", \"Kidhome\", \"Teenhome\", \"Complain\"]\n",
    "\n",
    "# Number of unique observations in each category\n",
    "for column in cols:\n",
    "    print(\"Unique values in\", column, \"are :\")\n",
    "    print(df[column].nunique())\n",
    "    print(\"*\" * 50)"
   ]
  },
  {
   "cell_type": "code",
   "execution_count": 52,
   "metadata": {
    "id": "BrgiRYtsah6X"
   },
   "outputs": [],
   "source": [
    "# Function to create horizontal bar plots with percentages displayed on each bar\n",
    "def perc_on_bar_horizontal(z):\n",
    "    total = len(df[z])                                          # Length of the column\n",
    "    plt.figure(figsize=(15, 5))\n",
    "\n",
    "    # Create the countplot with sorted order based on value counts (horizontal bar plot)\n",
    "    ax = sns.countplot(y=df[z], palette='Paired', order=df[z].value_counts().index)\n",
    "\n",
    "    # Loop through each bar and annotate percentage\n",
    "    for p in ax.patches:\n",
    "        percentage = '{:.1f}%'.format(100 * p.get_width() / total)  # Calculate percentage\n",
    "        x = p.get_width()                                           # X-coordinate for annotation\n",
    "        y = p.get_y() + p.get_height() / 2                          # Y-coordinate for annotation (centered)\n",
    "        ax.annotate(percentage, (x, y), ha='left', va='center', size=12)  # Annotate the percentage\n",
    "\n",
    "    plt.ylabel(z)\n",
    "    plt.xlabel('Count')\n",
    "    plt.title(f'Percentage of {z} Categories')\n",
    "    plt.tight_layout()\n",
    "    plt.show()\n"
   ]
  },
  {
   "cell_type": "markdown",
   "metadata": {
    "id": "30ffEeEh3jCG"
   },
   "source": [
    "#### Marital Status"
   ]
  },
  {
   "cell_type": "code",
   "execution_count": 53,
   "metadata": {
    "colab": {
     "base_uri": "https://localhost:8080/",
     "height": 511
    },
    "id": "tyvC9tNwzjv9",
    "outputId": "830922b8-aff5-4b15-c4c1-680388929041"
   },
   "outputs": [
    {
     "name": "stderr",
     "output_type": "stream",
     "text": [
      "C:\\Users\\MAY02\\AppData\\Local\\Temp\\ipykernel_12656\\2312310877.py:7: FutureWarning: \n",
      "\n",
      "Passing `palette` without assigning `hue` is deprecated and will be removed in v0.14.0. Assign the `y` variable to `hue` and set `legend=False` for the same effect.\n",
      "\n",
      "  ax = sns.countplot(y=df[z], palette='Paired', order=df[z].value_counts().index)\n"
     ]
    },
    {
     "data": {
      "image/png": "[encoded data removed]",
      "text/plain": [
       "<Figure size 1500x500 with 1 Axes>"
      ]
     },
     "metadata": {},
     "output_type": "display_data"
    }
   ],
   "source": [
    "# Bar plot for 'Marital_Status'\n",
    "perc_on_bar_horizontal('Marital_Status')"
   ]
  },
  {
   "cell_type": "code",
   "execution_count": 54,
   "metadata": {
    "colab": {
     "base_uri": "https://localhost:8080/",
     "height": 366
    },
    "id": "H9JWQxxb2r1a",
    "outputId": "49f2ecff-e360-486e-d4a3-d1b5cd116554"
   },
   "outputs": [
    {
     "data": {
      "text/plain": [
       "Marital_Status\n",
       "Married     857\n",
       "Together    573\n",
       "Single      471\n",
       "Divorced    232\n",
       "Widow        76\n",
       "Alone         3\n",
       "Absurd        2\n",
       "YOLO          2\n",
       "Name: count, dtype: int64"
      ]
     },
     "execution_count": 54,
     "metadata": {},
     "output_type": "execute_result"
    }
   ],
   "source": [
    "df.Marital_Status.value_counts()"
   ]
  },
  {
   "cell_type": "code",
   "execution_count": 55,
   "metadata": {
    "colab": {
     "base_uri": "https://localhost:8080/"
    },
    "id": "xoGcem0k266r",
    "outputId": "3144acec-66b4-42d5-cbb7-42335f072c08"
   },
   "outputs": [],
   "source": [
    "# Simplify the Marital_Status column\n",
    "df = df[(df.Marital_Status != 'YOLO') & (df.Marital_Status != 'Absurd')] # drop meaningless values\n",
    "\n",
    "def married_single(x):\n",
    "    relationship = {\n",
    "        'Married' :'Relationship',\n",
    "        'Together':'Relationship',\n",
    "        'Single'  :'Alone',\n",
    "        'Divorced':'Alone',\n",
    "        'Widow'   :'Alone',\n",
    "        'Alone'   :'Alone'\n",
    "    }\n",
    "\n",
    "    return relationship[x]\n",
    "\n",
    "df['Marital_Status'] = df.Marital_Status.apply(married_single)"
   ]
  },
  {
   "cell_type": "code",
   "execution_count": 56,
   "metadata": {
    "colab": {
     "base_uri": "https://localhost:8080/",
     "height": 178
    },
    "id": "RVFNjRnr3pSD",
    "outputId": "a403e364-c40e-4172-941f-e78540c560a0"
   },
   "outputs": [
    {
     "data": {
      "text/plain": [
       "Marital_Status\n",
       "Relationship    1430\n",
       "Alone            782\n",
       "Name: count, dtype: int64"
      ]
     },
     "execution_count": 56,
     "metadata": {},
     "output_type": "execute_result"
    }
   ],
   "source": [
    "df.Marital_Status.value_counts()"
   ]
  },
  {
   "cell_type": "markdown",
   "metadata": {
    "id": "A5ecW5jY4LJz"
   },
   "source": [
    "#### Education"
   ]
  },
  {
   "cell_type": "code",
   "execution_count": 57,
   "metadata": {
    "colab": {
     "base_uri": "https://localhost:8080/",
     "height": 511
    },
    "id": "iuVFVFXdbvwt",
    "outputId": "b168e897-0c59-4b1f-9f82-317e3490b6c0"
   },
   "outputs": [
    {
     "name": "stderr",
     "output_type": "stream",
     "text": [
      "C:\\Users\\MAY02\\AppData\\Local\\Temp\\ipykernel_12656\\2312310877.py:7: FutureWarning: \n",
      "\n",
      "Passing `palette` without assigning `hue` is deprecated and will be removed in v0.14.0. Assign the `y` variable to `hue` and set `legend=False` for the same effect.\n",
      "\n",
      "  ax = sns.countplot(y=df[z], palette='Paired', order=df[z].value_counts().index)\n"
     ]
    },
    {
     "data": {
      "image/png": "[encoded data removed]",
      "text/plain": [
       "<Figure size 1500x500 with 1 Axes>"
      ]
     },
     "metadata": {},
     "output_type": "display_data"
    }
   ],
   "source": [
    "# Bar plot for 'Education'\n",
    "perc_on_bar_horizontal('Education')"
   ]
  },
  {
   "cell_type": "code",
   "execution_count": 58,
   "metadata": {
    "colab": {
     "base_uri": "https://localhost:8080/"
    },
    "id": "AMCQ41_x4Pd8",
    "outputId": "f06e72e7-02fc-42d9-9ec0-49d654baf716"
   },
   "outputs": [
    {
     "data": {
      "text/plain": [
       "Education\n",
       "Graduation    1115\n",
       "PhD            479\n",
       "Master         364\n",
       "2n Cycle       200\n",
       "Basic           54\n",
       "Name: count, dtype: int64"
      ]
     },
     "execution_count": 58,
     "metadata": {},
     "output_type": "execute_result"
    }
   ],
   "source": [
    "df.Education.value_counts()"
   ]
  },
  {
   "cell_type": "code",
   "execution_count": 59,
   "metadata": {
    "colab": {
     "base_uri": "https://localhost:8080/"
    },
    "id": "rbUeOGOe4VG2",
    "outputId": "5b8283fe-3906-423f-ff85-b059c5d45321"
   },
   "outputs": [],
   "source": [
    "def edu(x):\n",
    "    education = {\n",
    "        'Basic'     :'Undergraduate',\n",
    "        '2n Cycle'  :'Undergraduate',\n",
    "        'Graduation':'Postgraduate',\n",
    "        'Master'    :'Postgraduate',\n",
    "        'PhD'       :'Postgraduate'\n",
    "    }\n",
    "    return education[x]\n",
    "\n",
    "df['Education'] = df.Education.apply(edu)"
   ]
  },
  {
   "cell_type": "code",
   "execution_count": 60,
   "metadata": {
    "colab": {
     "base_uri": "https://localhost:8080/"
    },
    "id": "KJ-k1rKD4XWb",
    "outputId": "d08d6a42-a60a-4d6a-8960-d45b27de173d"
   },
   "outputs": [
    {
     "data": {
      "text/plain": [
       "Education\n",
       "Postgraduate     1958\n",
       "Undergraduate     254\n",
       "Name: count, dtype: int64"
      ]
     },
     "execution_count": 60,
     "metadata": {},
     "output_type": "execute_result"
    }
   ],
   "source": [
    "df.Education.value_counts()"
   ]
  },
  {
   "cell_type": "markdown",
   "metadata": {
    "id": "aXYj25k23r-i"
   },
   "source": [
    "#### Year since customer’s enrolment with the company"
   ]
  },
  {
   "cell_type": "code",
   "execution_count": 61,
   "metadata": {
    "colab": {
     "base_uri": "https://localhost:8080/",
     "height": 458
    },
    "id": "dL--CZ50H7Pi",
    "outputId": "7aaa108a-777f-40bb-f746-24602506a0d7"
   },
   "outputs": [
    {
     "data": {
      "text/plain": [
       "0       04-09-2012\n",
       "1       08-03-2014\n",
       "2       21-08-2013\n",
       "3       10-02-2014\n",
       "4       19-01-2014\n",
       "           ...    \n",
       "2235    13-06-2013\n",
       "2236    10-06-2014\n",
       "2237    25-01-2014\n",
       "2238    24-01-2014\n",
       "2239    15-10-2012\n",
       "Name: Dt_Customer, Length: 2216, dtype: object"
      ]
     },
     "execution_count": 61,
     "metadata": {},
     "output_type": "execute_result"
    }
   ],
   "source": [
    "data['Dt_Customer']"
   ]
  },
  {
   "cell_type": "code",
   "execution_count": 62,
   "metadata": {
    "id": "wCSyHB3BRs1O"
   },
   "outputs": [],
   "source": [
    "import pandas as pd\n",
    "import datetime\n",
    "\n",
    "def get_different_year():\n",
    "    # Try to convert the 'Dt_Customer' column to datetime, handling errors\n",
    "    registration_year = pd.to_datetime(df['Dt_Customer'], format='%d-%m-%Y', errors='coerce').apply(lambda x: x.year)\n",
    "\n",
    "    # Get current year\n",
    "    current_year = datetime.datetime.now().year\n",
    "\n",
    "    # Calculate and return the difference, handling potential NaT (Not a Time) values\n",
    "    return current_year - registration_year.fillna(current_year) # Fill NaT with current year to avoid errors"
   ]
  },
  {
   "cell_type": "code",
   "execution_count": 63,
   "metadata": {
    "id": "Sad1-MH_4GU3"
   },
   "outputs": [],
   "source": [
    "# Apply the function and convert to numeric, handling errors\n",
    "df['Years_Since_Registration'] = get_different_year()\n",
    "df[\"Years_Since_Registration\"] = pd.to_numeric(df[\"Years_Since_Registration\"], errors=\"coerce\")"
   ]
  },
  {
   "cell_type": "code",
   "execution_count": 64,
   "metadata": {
    "id": "W9LaZdPo615f"
   },
   "outputs": [],
   "source": [
    "df.drop(['Dt_Customer'], axis=1, inplace=True) # no longer need"
   ]
  },
  {
   "cell_type": "markdown",
   "metadata": {
    "id": "o47Dgwsl4eYJ"
   },
   "source": [
    "#### Age"
   ]
  },
  {
   "cell_type": "code",
   "execution_count": 65,
   "metadata": {
    "id": "tPJ7YKIpSV_a"
   },
   "outputs": [],
   "source": [
    "from datetime import datetime\n",
    "df['Age'] = datetime.now().year - df.Year_Birth"
   ]
  },
  {
   "cell_type": "code",
   "execution_count": 66,
   "metadata": {
    "colab": {
     "base_uri": "https://localhost:8080/",
     "height": 878
    },
    "id": "Xzj9OM5YFSl4",
    "outputId": "c640e481-7f3c-451b-e62d-757f7bbd64d2"
   },
   "outputs": [
    {
     "data": {
      "image/png": "[encoded data removed]",
      "text/plain": [
       "<Figure size 1000x1000 with 1 Axes>"
      ]
     },
     "metadata": {},
     "output_type": "display_data"
    }
   ],
   "source": [
    "import matplotlib.pyplot as plt\n",
    "import seaborn as sns\n",
    "\n",
    "plt.rcParams.update(plt.rcParamsDefault)  # Reset to default font settings\n",
    "\n",
    "# Sample data - replace with your actual DataFrame and column\n",
    "age_data = df['Age']\n",
    "\n",
    "# Set style and background color\n",
    "plt.figure(figsize=(10, 10), facecolor='#efefef')  # Light gray background for the figure\n",
    "ax = sns.boxplot(data=age_data, color='#f14a16')  # Orange boxplot\n",
    "\n",
    "# Set plot background color to light gray\n",
    "ax.set_facecolor('#efefef')\n",
    "\n",
    "# Customize title and labels with DejaVu Sans font and appropriate sizes\n",
    "plt.title('Boxplot of Age', color='black', fontweight='bold',  pad=20)\n",
    "plt.xlabel('Age', color='black')\n",
    "plt.ylabel('Age', color='black')\n",
    "\n",
    "# Customize x and y ticks with DejaVu Sans font and appropriate sizes\n",
    "plt.xticks(color='black')\n",
    "plt.yticks(color='black')\n",
    "\n",
    "# Show the plot\n",
    "plt.show()\n"
   ]
  },
  {
   "cell_type": "code",
   "execution_count": 67,
   "metadata": {
    "id": "tld9080SqCXU"
   },
   "outputs": [],
   "source": [
    "# Remove outliers\n",
    "df = df[df['Age'] <= 90]"
   ]
  },
  {
   "cell_type": "code",
   "execution_count": 68,
   "metadata": {
    "colab": {
     "base_uri": "https://localhost:8080/"
    },
    "id": "DqzByAHF7GrY",
    "outputId": "bfbfe349-74ea-41bd-ab20-e18f4b8420c3"
   },
   "outputs": [],
   "source": [
    "df.drop(['Year_Birth'], axis=1, inplace=True) # no longer need"
   ]
  },
  {
   "cell_type": "code",
   "execution_count": 69,
   "metadata": {
    "colab": {
     "base_uri": "https://localhost:8080/",
     "height": 335
    },
    "id": "5A5D3XpeRdX9",
    "outputId": "e7252866-248d-4dfb-f3d7-bfeb9414f692"
   },
   "outputs": [
    {
     "data": {
      "text/plain": [
       "count    2209.000000\n",
       "mean       56.091897\n",
       "std        11.696191\n",
       "min        29.000000\n",
       "25%        48.000000\n",
       "50%        55.000000\n",
       "75%        66.000000\n",
       "max        85.000000\n",
       "Name: Age, dtype: float64"
      ]
     },
     "execution_count": 69,
     "metadata": {},
     "output_type": "execute_result"
    }
   ],
   "source": [
    "df['Age'].describe()"
   ]
  },
  {
   "cell_type": "markdown",
   "metadata": {
    "id": "YZO6EMSw_Jzh"
   },
   "source": [
    "#### Total children and members living in the household"
   ]
  },
  {
   "cell_type": "code",
   "execution_count": 70,
   "metadata": {
    "colab": {
     "base_uri": "https://localhost:8080/",
     "height": 511
    },
    "id": "FZD9MbBKcLG7",
    "outputId": "b6d3aebd-5bad-47ef-f9d5-bc8341e23ad7"
   },
   "outputs": [
    {
     "name": "stderr",
     "output_type": "stream",
     "text": [
      "C:\\Users\\MAY02\\AppData\\Local\\Temp\\ipykernel_12656\\2312310877.py:7: FutureWarning: \n",
      "\n",
      "Passing `palette` without assigning `hue` is deprecated and will be removed in v0.14.0. Assign the `y` variable to `hue` and set `legend=False` for the same effect.\n",
      "\n",
      "  ax = sns.countplot(y=df[z], palette='Paired', order=df[z].value_counts().index)\n"
     ]
    },
    {
     "data": {
      "image/png": "[encoded data removed]",
      "text/plain": [
       "<Figure size 1500x500 with 1 Axes>"
      ]
     },
     "metadata": {},
     "output_type": "display_data"
    }
   ],
   "source": [
    "# Bar plot for 'Kidhome'\n",
    "perc_on_bar_horizontal('Kidhome')"
   ]
  },
  {
   "cell_type": "code",
   "execution_count": 71,
   "metadata": {
    "colab": {
     "base_uri": "https://localhost:8080/",
     "height": 512
    },
    "id": "uxJVrjYRcQBp",
    "outputId": "cd4ba048-b684-4da6-ba0a-0501d386867b"
   },
   "outputs": [
    {
     "name": "stderr",
     "output_type": "stream",
     "text": [
      "C:\\Users\\MAY02\\AppData\\Local\\Temp\\ipykernel_12656\\2312310877.py:7: FutureWarning: \n",
      "\n",
      "Passing `palette` without assigning `hue` is deprecated and will be removed in v0.14.0. Assign the `y` variable to `hue` and set `legend=False` for the same effect.\n",
      "\n",
      "  ax = sns.countplot(y=df[z], palette='Paired', order=df[z].value_counts().index)\n"
     ]
    },
    {
     "data": {
      "image/png": "[encoded data removed]",
      "text/plain": [
       "<Figure size 1500x500 with 1 Axes>"
      ]
     },
     "metadata": {},
     "output_type": "display_data"
    }
   ],
   "source": [
    "# Bar plot for 'Teenhome'\n",
    "perc_on_bar_horizontal('Teenhome')"
   ]
  },
  {
   "cell_type": "code",
   "execution_count": 72,
   "metadata": {
    "colab": {
     "base_uri": "https://localhost:8080/"
    },
    "id": "GjXZVnZN_mRD",
    "outputId": "9188728f-0bb4-436e-ec7e-f6a6973936dd"
   },
   "outputs": [],
   "source": [
    "df[\"Children\"] = df[\"Kidhome\"] + df[\"Teenhome\"]"
   ]
  },
  {
   "cell_type": "code",
   "execution_count": 73,
   "metadata": {
    "colab": {
     "base_uri": "https://localhost:8080/"
    },
    "id": "tZ_M_dQN_wGq",
    "outputId": "5eae0551-2ecc-4343-9833-df37d298ebc9"
   },
   "outputs": [],
   "source": [
    "df.drop(['Kidhome', 'Teenhome'], axis=1, inplace=True) # no longer need"
   ]
  },
  {
   "cell_type": "code",
   "execution_count": 74,
   "metadata": {
    "colab": {
     "base_uri": "https://localhost:8080/"
    },
    "id": "EOOcn7o3APN4",
    "outputId": "b4433f3d-94a5-47ce-9d38-72ccae17a174"
   },
   "outputs": [
    {
     "name": "stderr",
     "output_type": "stream",
     "text": [
      "C:\\Users\\MAY02\\AppData\\Local\\Temp\\ipykernel_12656\\1119946077.py:1: FutureWarning: Downcasting behavior in `replace` is deprecated and will be removed in a future version. To retain the old behavior, explicitly call `result.infer_objects(copy=False)`. To opt-in to the future behavior, set `pd.set_option('future.no_silent_downcasting', True)`\n",
      "  df[\"Family_Size\"] = pd.to_numeric(df[\"Marital_Status\"].replace({\"Alone\": 1, \"Relationship\":2}), errors='coerce')+ df[\"Children\"]\n"
     ]
    }
   ],
   "source": [
    "df[\"Family_Size\"] = pd.to_numeric(df[\"Marital_Status\"].replace({\"Alone\": 1, \"Relationship\":2}), errors='coerce')+ df[\"Children\"]"
   ]
  },
  {
   "cell_type": "code",
   "execution_count": 75,
   "metadata": {
    "colab": {
     "base_uri": "https://localhost:8080/",
     "height": 584
    },
    "id": "oDwBucxhBgQj",
    "outputId": "dda34f1e-7c8a-4a9d-ddfa-e14f210f0249"
   },
   "outputs": [
    {
     "data": {
      "image/png": "[encoded data removed]",
      "text/plain": [
       "<Figure size 1000x600 with 1 Axes>"
      ]
     },
     "metadata": {},
     "output_type": "display_data"
    }
   ],
   "source": [
    "import matplotlib.pyplot as plt\n",
    "\n",
    "# Assuming df and the necessary columns are defined as in the provided code\n",
    "\n",
    "# Calculate family size counts\n",
    "family_size_counts = df[\"Family_Size\"].value_counts()\n",
    "\n",
    "# Create the bar chart\n",
    "plt.figure(figsize=(10, 6), facecolor='#efefef')  # Adjust figure size as needed\n",
    "bars = plt.bar(family_size_counts.index, family_size_counts.values, color='#f14a16')\n",
    "\n",
    "# Add value labels on top of each bar\n",
    "for bar in bars:\n",
    "    yval = bar.get_height()\n",
    "    plt.text(bar.get_x() + bar.get_width()/2, yval + 1 , yval, ha='center', va='bottom')\n",
    "\n",
    "plt.xlabel(\"Family Size\")\n",
    "plt.ylabel(\"Number of Customers\")\n",
    "plt.title(\"Distribution of Family Sizes\", fontweight='bold', pad=20)\n",
    "plt.show()"
   ]
  },
  {
   "cell_type": "code",
   "execution_count": 76,
   "metadata": {
    "colab": {
     "base_uri": "https://localhost:8080/"
    },
    "id": "zO6fPhsYsDI4",
    "outputId": "ce5343a9-2e77-4ab4-d4d7-417d08b689ad"
   },
   "outputs": [
    {
     "name": "stdout",
     "output_type": "stream",
     "text": [
      "<class 'pandas.core.series.Series'>\n",
      "Index: 2209 entries, 0 to 2239\n",
      "Series name: Education\n",
      "Non-Null Count  Dtype \n",
      "--------------  ----- \n",
      "2209 non-null   object\n",
      "dtypes: object(1)\n",
      "memory usage: 34.5+ KB\n"
     ]
    }
   ],
   "source": [
    "df['Education'].info()"
   ]
  },
  {
   "cell_type": "markdown",
   "metadata": {
    "id": "AkbU9KWj7JuH"
   },
   "source": [
    "#### **Spending**: Total spendings on various items"
   ]
  },
  {
   "cell_type": "code",
   "execution_count": 77,
   "metadata": {
    "colab": {
     "base_uri": "https://localhost:8080/",
     "height": 606
    },
    "id": "323qmwn37liq",
    "outputId": "b61ee72c-9acc-45dd-fd64-5ab2cff65feb"
   },
   "outputs": [
    {
     "data": {
      "image/png": "[encoded data removed]",
      "text/plain": [
       "<Figure size 1200x600 with 1 Axes>"
      ]
     },
     "metadata": {},
     "output_type": "display_data"
    }
   ],
   "source": [
    "# MntMeatProducts - amount spent on meat products in the last 2 years\n",
    "# MntFruits - amount spent on fruits products in the last 2 years\n",
    "# MntSweetProducts - amount spent on sweet products in the last 2 years\n",
    "# MntWines - amount spent on wine products in the last 2 years\n",
    "# MntGoldProds - amount spent on gold products in the last 2 years\n",
    "\n",
    "spend_columns = ['MntFishProducts', 'MntMeatProducts', 'MntFruits', 'MntSweetProducts', 'MntWines', 'MntGoldProds']\n",
    "\n",
    "# Create the boxplot\n",
    "plt.figure(figsize=(12, 6), facecolor='#efefef')  # Adjust figure size for better readability\n",
    "sns.boxplot(data=df[spend_columns])\n",
    "plt.title('Boxplot of Spending on Different Product Categories', fontweight='bold', pad=20)\n",
    "plt.xlabel('Product Category')\n",
    "plt.ylabel('Amount Spent')\n",
    "plt.xticks(rotation=45, ha='right')  # Rotate x-axis labels for better visibility\n",
    "plt.tight_layout() # Adjust layout to prevent labels from overlapping\n",
    "plt.show()"
   ]
  },
  {
   "cell_type": "markdown",
   "metadata": {
    "id": "7YA1uUyv9HTz"
   },
   "source": [
    "=> Comment:\n",
    "- **Wine** and **Meat**  categories show the highest spending among customers. Wine have the most extreme outliers, representing a small segment of customers who spend disproportionately more than the average\n",
    "- The significant split around the median in **wine** and **meat** spending indicates the presence of two distinct customer behaviors: a large group of low to moderate spenders and a smaller group of high spenders.\n"
   ]
  },
  {
   "cell_type": "code",
   "execution_count": 78,
   "metadata": {
    "id": "BiikJ1V3Cg3E"
   },
   "outputs": [],
   "source": [
    "#Total spendings on various items\n",
    "df[\"Spent\"] = df[\"MntWines\"]+ df[\"MntFruits\"]+ df[\"MntMeatProducts\"] + \\\n",
    "              df[\"MntFishProducts\"]+ df[\"MntSweetProducts\"]+ df[\"MntGoldProds\"]"
   ]
  },
  {
   "cell_type": "markdown",
   "metadata": {
    "id": "zqwphaYnhBZL"
   },
   "source": [
    "#### **TotalAcceptedCmp**: Total number of accepted campaigns by a customer"
   ]
  },
  {
   "cell_type": "code",
   "execution_count": 79,
   "metadata": {
    "id": "abOXBl7ihDSh"
   },
   "outputs": [],
   "source": [
    "# \"AcceptedCmp1\", \"AcceptedCmp2\", \"AcceptedCmp3\", \"AcceptedCmp4\", \"AcceptedCmp5\", \"Response\"\n",
    "df[\"TotalAcceptedCmp\"] = df['AcceptedCmp1'] + df['AcceptedCmp2'] + df['AcceptedCmp3'] + df['AcceptedCmp4'] + df['AcceptedCmp5'] + df['Response']"
   ]
  },
  {
   "cell_type": "markdown",
   "metadata": {
    "id": "r5JjHoQ7sPsj"
   },
   "source": [
    "#### Income"
   ]
  },
  {
   "cell_type": "code",
   "execution_count": 80,
   "metadata": {
    "colab": {
     "base_uri": "https://localhost:8080/",
     "height": 477
    },
    "id": "x_w9-g_rsRL7",
    "outputId": "4489a150-fbbc-4b4d-d42f-d0f536561720"
   },
   "outputs": [
    {
     "data": {
      "image/png": "[encoded data removed]",
      "text/plain": [
       "<Figure size 640x480 with 1 Axes>"
      ]
     },
     "metadata": {},
     "output_type": "display_data"
    }
   ],
   "source": [
    "import matplotlib.pyplot as plt\n",
    "import seaborn as sns\n",
    "\n",
    "plt.rcParams.update(plt.rcParamsDefault)  # Reset to default font settings\n",
    "\n",
    "# Sample data - replace with your actual DataFrame and column\n",
    "age_data = df['Income']\n",
    "\n",
    "# Set style and background color\n",
    "plt.figure(facecolor='#efefef')  # Light gray background for the figure\n",
    "ax = sns.boxplot(data=age_data, color='#f14a16')  # Orange boxplot\n",
    "\n",
    "# Set plot background color to light gray\n",
    "ax.set_facecolor('#efefef')\n",
    "\n",
    "# Customize title and labels with DejaVu Sans font and appropriate sizes\n",
    "plt.title('Boxplot of Age', color='black', fontweight='bold',  pad=20)\n",
    "plt.xlabel('Age', color='black')\n",
    "plt.ylabel('Age', color='black')\n",
    "\n",
    "# Customize x and y ticks with DejaVu Sans font and appropriate sizes\n",
    "plt.xticks(color='black')\n",
    "plt.yticks(color='black')\n",
    "\n",
    "# Show the plot\n",
    "plt.show()\n"
   ]
  },
  {
   "cell_type": "code",
   "execution_count": 81,
   "metadata": {
    "id": "hIpTI1EOsnzC"
   },
   "outputs": [],
   "source": [
    "# Calculate Q1 (25th percentile) and Q3 (75th percentile)\n",
    "Q1 = df['Income'].quantile(0.25)\n",
    "Q3 = df['Income'].quantile(0.75)\n",
    "\n",
    "# Calculate IQR\n",
    "IQR = Q3 - Q1\n",
    "\n",
    "# Define the lower and upper bounds for acceptable values\n",
    "lower_bound = Q1 - 1.5 * IQR\n",
    "upper_bound = Q3 + 1.5 * IQR\n",
    "\n",
    "# Remove rows with Income outside the bounds\n",
    "df = df[(df['Income'] >= lower_bound) & (df['Income'] <= upper_bound)]"
   ]
  },
  {
   "cell_type": "code",
   "execution_count": 82,
   "metadata": {
    "colab": {
     "base_uri": "https://localhost:8080/",
     "height": 335
    },
    "id": "Z6YXkmeYsurn",
    "outputId": "af8196b4-cd21-4bf2-d43f-867b77074e67"
   },
   "outputs": [
    {
     "data": {
      "text/plain": [
       "count      2201.000000\n",
       "mean      51606.144480\n",
       "std       20721.181896\n",
       "min        1730.000000\n",
       "25%       35178.000000\n",
       "50%       51287.000000\n",
       "75%       68281.000000\n",
       "max      113734.000000\n",
       "Name: Income, dtype: float64"
      ]
     },
     "execution_count": 82,
     "metadata": {},
     "output_type": "execute_result"
    }
   ],
   "source": [
    "df['Income'].describe()"
   ]
  },
  {
   "cell_type": "markdown",
   "metadata": {
    "id": "_s1fFVzNdggv"
   },
   "source": [
    "### Complain"
   ]
  },
  {
   "cell_type": "code",
   "execution_count": 83,
   "metadata": {
    "colab": {
     "base_uri": "https://localhost:8080/",
     "height": 511
    },
    "id": "3x54AkMidiqT",
    "outputId": "9efb1021-b0ca-494c-a4e3-7b2be5d3f176"
   },
   "outputs": [
    {
     "name": "stderr",
     "output_type": "stream",
     "text": [
      "C:\\Users\\MAY02\\AppData\\Local\\Temp\\ipykernel_12656\\2312310877.py:7: FutureWarning: \n",
      "\n",
      "Passing `palette` without assigning `hue` is deprecated and will be removed in v0.14.0. Assign the `y` variable to `hue` and set `legend=False` for the same effect.\n",
      "\n",
      "  ax = sns.countplot(y=df[z], palette='Paired', order=df[z].value_counts().index)\n"
     ]
    },
    {
     "data": {
      "image/png": "[encoded data removed]",
      "text/plain": [
       "<Figure size 1500x500 with 1 Axes>"
      ]
     },
     "metadata": {},
     "output_type": "display_data"
    }
   ],
   "source": [
    "# Bar plot for 'Complain'\n",
    "perc_on_bar_horizontal('Complain')"
   ]
  },
  {
   "cell_type": "markdown",
   "metadata": {
    "id": "KC8sziw7djfa"
   },
   "source": [
    "Comment: Key observations from all plots can be derived as below:\n",
    "- Most of the customers are Married followed by Together or Single.\n",
    "- More than half of the customers have a Graduation level of education. Customers with a Master or PhD level of education almost make up the other half. Only 2.4% of the customers in this dataset have a Basic level of education.\n",
    "- More than half (57.7%) of customers have 0 small children in their household.\n",
    "- The distribution for number of teenagers in a customer's household is very similar to the distribution for number of small children in a customer's household.\n",
    "- Almost all the customers in this dataset have not complained in the last 2 years (99.1%)."
   ]
  },
  {
   "cell_type": "markdown",
   "metadata": {
    "id": "oJ-hKy5sRlPC"
   },
   "source": [
    "### New Dataframe"
   ]
  },
  {
   "cell_type": "code",
   "execution_count": 84,
   "metadata": {
    "colab": {
     "base_uri": "https://localhost:8080/"
    },
    "id": "C9Pl--OeRI9l",
    "outputId": "72635baf-fba3-4e44-c93e-41943dfe05a1"
   },
   "outputs": [],
   "source": [
    "df.drop(['Z_CostContact', 'Z_Revenue'], axis=1, inplace=True) # no description provided"
   ]
  },
  {
   "cell_type": "code",
   "execution_count": 85,
   "metadata": {
    "colab": {
     "base_uri": "https://localhost:8080/",
     "height": 350
    },
    "id": "jmJ_qPyqxK8p",
    "outputId": "10099000-e16f-4fa6-d48d-978403fe9a2a"
   },
   "outputs": [
    {
     "data": {
      "text/html": [
       "<div>\n",
       "<style scoped>\n",
       "    .dataframe tbody tr th:only-of-type {\n",
       "        vertical-align: middle;\n",
       "    }\n",
       "\n",
       "    .dataframe tbody tr th {\n",
       "        vertical-align: top;\n",
       "    }\n",
       "\n",
       "    .dataframe thead th {\n",
       "        text-align: right;\n",
       "    }\n",
       "</style>\n",
       "<table border=\"1\" class=\"dataframe\">\n",
       "  <thead>\n",
       "    <tr style=\"text-align: right;\">\n",
       "      <th></th>\n",
       "      <th>ID</th>\n",
       "      <th>Income</th>\n",
       "      <th>Recency</th>\n",
       "      <th>MntWines</th>\n",
       "      <th>MntFruits</th>\n",
       "      <th>MntMeatProducts</th>\n",
       "      <th>MntFishProducts</th>\n",
       "      <th>MntSweetProducts</th>\n",
       "      <th>MntGoldProds</th>\n",
       "      <th>NumDealsPurchases</th>\n",
       "      <th>...</th>\n",
       "      <th>AcceptedCmp1</th>\n",
       "      <th>AcceptedCmp2</th>\n",
       "      <th>Complain</th>\n",
       "      <th>Response</th>\n",
       "      <th>Years_Since_Registration</th>\n",
       "      <th>Age</th>\n",
       "      <th>Children</th>\n",
       "      <th>Family_Size</th>\n",
       "      <th>Spent</th>\n",
       "      <th>TotalAcceptedCmp</th>\n",
       "    </tr>\n",
       "  </thead>\n",
       "  <tbody>\n",
       "    <tr>\n",
       "      <th>count</th>\n",
       "      <td>2201.000000</td>\n",
       "      <td>2201.000000</td>\n",
       "      <td>2201.000000</td>\n",
       "      <td>2201.000000</td>\n",
       "      <td>2201.000000</td>\n",
       "      <td>2201.000000</td>\n",
       "      <td>2201.000000</td>\n",
       "      <td>2201.000000</td>\n",
       "      <td>2201.000000</td>\n",
       "      <td>2201.000000</td>\n",
       "      <td>...</td>\n",
       "      <td>2201.000000</td>\n",
       "      <td>2201.000000</td>\n",
       "      <td>2201.000000</td>\n",
       "      <td>2201.000000</td>\n",
       "      <td>2201.000000</td>\n",
       "      <td>2201.000000</td>\n",
       "      <td>2201.000000</td>\n",
       "      <td>2201.000000</td>\n",
       "      <td>2201.000000</td>\n",
       "      <td>2201.000000</td>\n",
       "    </tr>\n",
       "    <tr>\n",
       "      <th>mean</th>\n",
       "      <td>5584.809632</td>\n",
       "      <td>51606.144480</td>\n",
       "      <td>49.047251</td>\n",
       "      <td>306.105407</td>\n",
       "      <td>26.371649</td>\n",
       "      <td>165.283053</td>\n",
       "      <td>37.634711</td>\n",
       "      <td>27.147206</td>\n",
       "      <td>43.913676</td>\n",
       "      <td>2.316220</td>\n",
       "      <td>...</td>\n",
       "      <td>0.064062</td>\n",
       "      <td>0.013630</td>\n",
       "      <td>0.009087</td>\n",
       "      <td>0.150386</td>\n",
       "      <td>11.971377</td>\n",
       "      <td>56.104952</td>\n",
       "      <td>0.949568</td>\n",
       "      <td>2.595638</td>\n",
       "      <td>606.455702</td>\n",
       "      <td>0.449341</td>\n",
       "    </tr>\n",
       "    <tr>\n",
       "      <th>std</th>\n",
       "      <td>3246.102409</td>\n",
       "      <td>20721.181896</td>\n",
       "      <td>28.924487</td>\n",
       "      <td>337.778943</td>\n",
       "      <td>39.772318</td>\n",
       "      <td>217.836140</td>\n",
       "      <td>54.630912</td>\n",
       "      <td>41.151010</td>\n",
       "      <td>51.543122</td>\n",
       "      <td>1.885822</td>\n",
       "      <td>...</td>\n",
       "      <td>0.244919</td>\n",
       "      <td>0.115976</td>\n",
       "      <td>0.094912</td>\n",
       "      <td>0.357531</td>\n",
       "      <td>0.685299</td>\n",
       "      <td>11.701763</td>\n",
       "      <td>0.749364</td>\n",
       "      <td>0.905568</td>\n",
       "      <td>601.937286</td>\n",
       "      <td>0.893054</td>\n",
       "    </tr>\n",
       "    <tr>\n",
       "      <th>min</th>\n",
       "      <td>0.000000</td>\n",
       "      <td>1730.000000</td>\n",
       "      <td>0.000000</td>\n",
       "      <td>0.000000</td>\n",
       "      <td>0.000000</td>\n",
       "      <td>0.000000</td>\n",
       "      <td>0.000000</td>\n",
       "      <td>0.000000</td>\n",
       "      <td>0.000000</td>\n",
       "      <td>0.000000</td>\n",
       "      <td>...</td>\n",
       "      <td>0.000000</td>\n",
       "      <td>0.000000</td>\n",
       "      <td>0.000000</td>\n",
       "      <td>0.000000</td>\n",
       "      <td>11.000000</td>\n",
       "      <td>29.000000</td>\n",
       "      <td>0.000000</td>\n",
       "      <td>1.000000</td>\n",
       "      <td>5.000000</td>\n",
       "      <td>0.000000</td>\n",
       "    </tr>\n",
       "    <tr>\n",
       "      <th>25%</th>\n",
       "      <td>2815.000000</td>\n",
       "      <td>35178.000000</td>\n",
       "      <td>24.000000</td>\n",
       "      <td>24.000000</td>\n",
       "      <td>2.000000</td>\n",
       "      <td>16.000000</td>\n",
       "      <td>3.000000</td>\n",
       "      <td>1.000000</td>\n",
       "      <td>9.000000</td>\n",
       "      <td>1.000000</td>\n",
       "      <td>...</td>\n",
       "      <td>0.000000</td>\n",
       "      <td>0.000000</td>\n",
       "      <td>0.000000</td>\n",
       "      <td>0.000000</td>\n",
       "      <td>12.000000</td>\n",
       "      <td>48.000000</td>\n",
       "      <td>0.000000</td>\n",
       "      <td>2.000000</td>\n",
       "      <td>69.000000</td>\n",
       "      <td>0.000000</td>\n",
       "    </tr>\n",
       "    <tr>\n",
       "      <th>50%</th>\n",
       "      <td>5455.000000</td>\n",
       "      <td>51287.000000</td>\n",
       "      <td>49.000000</td>\n",
       "      <td>176.000000</td>\n",
       "      <td>8.000000</td>\n",
       "      <td>68.000000</td>\n",
       "      <td>12.000000</td>\n",
       "      <td>8.000000</td>\n",
       "      <td>25.000000</td>\n",
       "      <td>2.000000</td>\n",
       "      <td>...</td>\n",
       "      <td>0.000000</td>\n",
       "      <td>0.000000</td>\n",
       "      <td>0.000000</td>\n",
       "      <td>0.000000</td>\n",
       "      <td>12.000000</td>\n",
       "      <td>55.000000</td>\n",
       "      <td>1.000000</td>\n",
       "      <td>3.000000</td>\n",
       "      <td>396.000000</td>\n",
       "      <td>0.000000</td>\n",
       "    </tr>\n",
       "    <tr>\n",
       "      <th>75%</th>\n",
       "      <td>8418.000000</td>\n",
       "      <td>68281.000000</td>\n",
       "      <td>74.000000</td>\n",
       "      <td>507.000000</td>\n",
       "      <td>33.000000</td>\n",
       "      <td>232.000000</td>\n",
       "      <td>50.000000</td>\n",
       "      <td>34.000000</td>\n",
       "      <td>56.000000</td>\n",
       "      <td>3.000000</td>\n",
       "      <td>...</td>\n",
       "      <td>0.000000</td>\n",
       "      <td>0.000000</td>\n",
       "      <td>0.000000</td>\n",
       "      <td>0.000000</td>\n",
       "      <td>12.000000</td>\n",
       "      <td>66.000000</td>\n",
       "      <td>1.000000</td>\n",
       "      <td>3.000000</td>\n",
       "      <td>1045.000000</td>\n",
       "      <td>1.000000</td>\n",
       "    </tr>\n",
       "    <tr>\n",
       "      <th>max</th>\n",
       "      <td>11191.000000</td>\n",
       "      <td>113734.000000</td>\n",
       "      <td>99.000000</td>\n",
       "      <td>1493.000000</td>\n",
       "      <td>199.000000</td>\n",
       "      <td>1725.000000</td>\n",
       "      <td>259.000000</td>\n",
       "      <td>262.000000</td>\n",
       "      <td>321.000000</td>\n",
       "      <td>15.000000</td>\n",
       "      <td>...</td>\n",
       "      <td>1.000000</td>\n",
       "      <td>1.000000</td>\n",
       "      <td>1.000000</td>\n",
       "      <td>1.000000</td>\n",
       "      <td>13.000000</td>\n",
       "      <td>85.000000</td>\n",
       "      <td>3.000000</td>\n",
       "      <td>5.000000</td>\n",
       "      <td>2525.000000</td>\n",
       "      <td>5.000000</td>\n",
       "    </tr>\n",
       "  </tbody>\n",
       "</table>\n",
       "<p>8 rows × 27 columns</p>\n",
       "</div>"
      ],
      "text/plain": [
       "                 ID         Income      Recency     MntWines    MntFruits  \\\n",
       "count   2201.000000    2201.000000  2201.000000  2201.000000  2201.000000   \n",
       "mean    5584.809632   51606.144480    49.047251   306.105407    26.371649   \n",
       "std     3246.102409   20721.181896    28.924487   337.778943    39.772318   \n",
       "min        0.000000    1730.000000     0.000000     0.000000     0.000000   \n",
       "25%     2815.000000   35178.000000    24.000000    24.000000     2.000000   \n",
       "50%     5455.000000   51287.000000    49.000000   176.000000     8.000000   \n",
       "75%     8418.000000   68281.000000    74.000000   507.000000    33.000000   \n",
       "max    11191.000000  113734.000000    99.000000  1493.000000   199.000000   \n",
       "\n",
       "       MntMeatProducts  MntFishProducts  MntSweetProducts  MntGoldProds  \\\n",
       "count      2201.000000      2201.000000       2201.000000   2201.000000   \n",
       "mean        165.283053        37.634711         27.147206     43.913676   \n",
       "std         217.836140        54.630912         41.151010     51.543122   \n",
       "min           0.000000         0.000000          0.000000      0.000000   \n",
       "25%          16.000000         3.000000          1.000000      9.000000   \n",
       "50%          68.000000        12.000000          8.000000     25.000000   \n",
       "75%         232.000000        50.000000         34.000000     56.000000   \n",
       "max        1725.000000       259.000000        262.000000    321.000000   \n",
       "\n",
       "       NumDealsPurchases  ...  AcceptedCmp1  AcceptedCmp2     Complain  \\\n",
       "count        2201.000000  ...   2201.000000   2201.000000  2201.000000   \n",
       "mean            2.316220  ...      0.064062      0.013630     0.009087   \n",
       "std             1.885822  ...      0.244919      0.115976     0.094912   \n",
       "min             0.000000  ...      0.000000      0.000000     0.000000   \n",
       "25%             1.000000  ...      0.000000      0.000000     0.000000   \n",
       "50%             2.000000  ...      0.000000      0.000000     0.000000   \n",
       "75%             3.000000  ...      0.000000      0.000000     0.000000   \n",
       "max            15.000000  ...      1.000000      1.000000     1.000000   \n",
       "\n",
       "          Response  Years_Since_Registration          Age     Children  \\\n",
       "count  2201.000000               2201.000000  2201.000000  2201.000000   \n",
       "mean      0.150386                 11.971377    56.104952     0.949568   \n",
       "std       0.357531                  0.685299    11.701763     0.749364   \n",
       "min       0.000000                 11.000000    29.000000     0.000000   \n",
       "25%       0.000000                 12.000000    48.000000     0.000000   \n",
       "50%       0.000000                 12.000000    55.000000     1.000000   \n",
       "75%       0.000000                 12.000000    66.000000     1.000000   \n",
       "max       1.000000                 13.000000    85.000000     3.000000   \n",
       "\n",
       "       Family_Size        Spent  TotalAcceptedCmp  \n",
       "count  2201.000000  2201.000000       2201.000000  \n",
       "mean      2.595638   606.455702          0.449341  \n",
       "std       0.905568   601.937286          0.893054  \n",
       "min       1.000000     5.000000          0.000000  \n",
       "25%       2.000000    69.000000          0.000000  \n",
       "50%       3.000000   396.000000          0.000000  \n",
       "75%       3.000000  1045.000000          1.000000  \n",
       "max       5.000000  2525.000000          5.000000  \n",
       "\n",
       "[8 rows x 27 columns]"
      ]
     },
     "execution_count": 85,
     "metadata": {},
     "output_type": "execute_result"
    }
   ],
   "source": [
    "df.describe()"
   ]
  },
  {
   "cell_type": "code",
   "execution_count": 86,
   "metadata": {
    "colab": {
     "base_uri": "https://localhost:8080/"
    },
    "id": "1q2_Ew7xq_HE",
    "outputId": "7fd48c28-b7d2-4a2b-ead2-adb325373dbd"
   },
   "outputs": [
    {
     "name": "stdout",
     "output_type": "stream",
     "text": [
      "Categorical variables in the dataset: ['Education', 'Marital_Status']\n"
     ]
    }
   ],
   "source": [
    "s = (df.dtypes == 'object')\n",
    "object_cols = list(s[s].index)\n",
    "\n",
    "print(\"Categorical variables in the dataset:\", object_cols)"
   ]
  },
  {
   "cell_type": "markdown",
   "metadata": {
    "id": "JXlyWQGa_YAM"
   },
   "source": [
    "## **C. Data Visualization**"
   ]
  },
  {
   "cell_type": "markdown",
   "metadata": {
    "id": "1ydckeQKmsTz"
   },
   "source": [
    "In this **section C**, we would like to gain more insights from this dataset by exploring the relationship between variables."
   ]
  },
  {
   "cell_type": "code",
   "execution_count": 87,
   "metadata": {
    "colab": {
     "base_uri": "https://localhost:8080/",
     "height": 472
    },
    "id": "mVQpf3ZYvs9X",
    "outputId": "1595c195-aaeb-4187-bf32-9790c6b14f01"
   },
   "outputs": [
    {
     "data": {
      "image/png": "[encoded data removed]",
      "text/plain": [
       "<Figure size 640x480 with 1 Axes>"
      ]
     },
     "metadata": {},
     "output_type": "display_data"
    }
   ],
   "source": [
    "# Plot1: Income vs Total Spending (scatter plot without regression line)\n",
    "plt.figure()\n",
    "sns.scatterplot(x='Income', y='Spent', data=df, alpha=0.7)\n",
    "plt.title('Income vs Total Spending')\n",
    "plt.xlabel('Income')\n",
    "plt.ylabel('Total Spending')\n",
    "plt.show()"
   ]
  },
  {
   "cell_type": "code",
   "execution_count": 88,
   "metadata": {
    "colab": {
     "base_uri": "https://localhost:8080/",
     "height": 542
    },
    "id": "gAvWQX5F2RKA",
    "outputId": "4bc0bf21-6dc2-4ee8-8610-15af0a66b83f"
   },
   "outputs": [
    {
     "name": "stderr",
     "output_type": "stream",
     "text": [
      "C:\\Users\\MAY02\\AppData\\Local\\Temp\\ipykernel_12656\\1651067182.py:7: FutureWarning: The default of observed=False is deprecated and will be changed to True in a future version of pandas. Pass observed=False to retain current behavior or observed=True to adopt the future default and silence this warning.\n",
      "  df_grouped = df.groupby('Income_Bin')[place_columns].mean().reset_index()\n"
     ]
    },
    {
     "data": {
      "image/png": "[encoded data removed]",
      "text/plain": [
       "<Figure size 640x480 with 1 Axes>"
      ]
     },
     "metadata": {},
     "output_type": "display_data"
    }
   ],
   "source": [
    "# Create income bins to categorize income levels\n",
    "df['Income_Bin'] = pd.cut(df['Income'], bins=[0, 30000, 60000, 90000, 120000],\n",
    "                          labels=['Low', 'Medium', 'High', 'Very High'])\n",
    "place_columns = ['NumDealsPurchases', 'NumWebPurchases', 'NumCatalogPurchases', 'NumStorePurchases']\n",
    "\n",
    "# Group by income bins and calculate mean for place of purchase columns\n",
    "df_grouped = df.groupby('Income_Bin')[place_columns].mean().reset_index()\n",
    "\n",
    "# Plot2: Stacked bar plot for average number of purchases by income group\n",
    "df_grouped.plot(x='Income_Bin', kind='bar', stacked=True, cmap='viridis', width=0.8)\n",
    "plt.title('Average Number of Purchases by Channel (Income Group)')\n",
    "plt.xlabel('Income Group')\n",
    "plt.ylabel('Average Number of Purchases')\n",
    "plt.legend(title='Channel')\n",
    "plt.tight_layout()\n",
    "plt.show()"
   ]
  },
  {
   "cell_type": "markdown",
   "metadata": {
    "id": "LZTwn7KF2pld"
   },
   "source": [
    "As can be derived from the 2 plots above, we can see some key information:\n",
    "* There is a positive correlation between total spend and income of customers. As income increases, total spending also tends to increase, indicating that higher-income customers generally spend more.\n",
    "* Spending behavior varies significantly by income group in terms of place of purchase:\n",
    " * Store purchases (yellow) and Web purchases (blue) form the largest portion of spending across all income groups.\n",
    " * Catalog purchases (green) increase significantly for higher-income groups, suggesting that wealthier customers may prefer more traditional purchasing methods like catalogs.\n",
    " * Deal purchases (purple) tend to decrease with income, implying that promotional campaigns and discounts are more appealing to lower-income customers..\n"
   ]
  },
  {
   "cell_type": "code",
   "execution_count": 89,
   "metadata": {
    "colab": {
     "base_uri": "https://localhost:8080/",
     "height": 1000
    },
    "id": "Bmu_tPT3R-st",
    "outputId": "b5a93a8a-6e70-43b1-a3f7-5425bf38ec94"
   },
   "outputs": [
    {
     "name": "stderr",
     "output_type": "stream",
     "text": [
      "C:\\Users\\MAY02\\AppData\\Local\\Temp\\ipykernel_12656\\234812688.py:13: FutureWarning: The default of observed=False is deprecated and will be changed to True in a future version of pandas. Pass observed=False to retain current behavior or observed=True to adopt the future default and silence this warning.\n",
      "  df_grouped_age = df.groupby('Age_Group')[product_columns].sum().div(df.groupby('Age_Group')[product_columns].sum().sum(axis=1), axis=0)\n",
      "C:\\Users\\MAY02\\AppData\\Local\\Temp\\ipykernel_12656\\234812688.py:13: FutureWarning: The default of observed=False is deprecated and will be changed to True in a future version of pandas. Pass observed=False to retain current behavior or observed=True to adopt the future default and silence this warning.\n",
      "  df_grouped_age = df.groupby('Age_Group')[product_columns].sum().div(df.groupby('Age_Group')[product_columns].sum().sum(axis=1), axis=0)\n",
      "C:\\Users\\MAY02\\AppData\\Local\\Temp\\ipykernel_12656\\234812688.py:14: FutureWarning: The default of observed=False is deprecated and will be changed to True in a future version of pandas. Pass observed=False to retain current behavior or observed=True to adopt the future default and silence this warning.\n",
      "  df_grouped_income = df.groupby('Income_Bin')[product_columns].sum().div(df.groupby('Income_Bin')[product_columns].sum().sum(axis=1), axis=0)\n",
      "C:\\Users\\MAY02\\AppData\\Local\\Temp\\ipykernel_12656\\234812688.py:14: FutureWarning: The default of observed=False is deprecated and will be changed to True in a future version of pandas. Pass observed=False to retain current behavior or observed=True to adopt the future default and silence this warning.\n",
      "  df_grouped_income = df.groupby('Income_Bin')[product_columns].sum().div(df.groupby('Income_Bin')[product_columns].sum().sum(axis=1), axis=0)\n"
     ]
    },
    {
     "data": {
      "image/png": "[encoded data removed]",
      "text/plain": [
       "<Figure size 2000x1400 with 4 Axes>"
      ]
     },
     "metadata": {},
     "output_type": "display_data"
    }
   ],
   "source": [
    "import matplotlib.pyplot as plt\n",
    "import pandas as pd\n",
    "\n",
    "# Define product columns\n",
    "product_columns = ['MntWines', 'MntMeatProducts', 'MntFruits', 'MntFishProducts', 'MntSweetProducts', 'MntGoldProds']\n",
    "\n",
    "# Define age bins and labels\n",
    "age_bins = [29, 40, 55, 70, 85]\n",
    "age_labels = ['29-40', '41-55', '56-70', '71-85']\n",
    "df['Age_Group'] = pd.cut(df['Age'], bins=age_bins, labels=age_labels, right=False)\n",
    "\n",
    "# Grouping data for different categories\n",
    "df_grouped_age = df.groupby('Age_Group')[product_columns].sum().div(df.groupby('Age_Group')[product_columns].sum().sum(axis=1), axis=0)\n",
    "df_grouped_income = df.groupby('Income_Bin')[product_columns].sum().div(df.groupby('Income_Bin')[product_columns].sum().sum(axis=1), axis=0)\n",
    "df_grouped_education = df.groupby('Education')[product_columns].sum().div(df.groupby('Education')[product_columns].sum().sum(axis=1), axis=0)\n",
    "df_grouped_marital = df.groupby('Marital_Status')[product_columns].sum().div(df.groupby('Marital_Status')[product_columns].sum().sum(axis=1), axis=0)\n",
    "\n",
    "# Create subplots\n",
    "fig, axes = plt.subplots(2, 2, figsize=(20, 14))\n",
    "\n",
    "# Plot 3.1. for Age Group\n",
    "df_grouped_age.plot(kind='bar', stacked=True, ax=axes[0, 1], cmap='tab20')\n",
    "axes[0, 0].set_title('Proportion of Product Purchases by Age Group')\n",
    "axes[0, 0].set_xlabel('Age Group')\n",
    "axes[0, 0].set_ylabel('Proportion of Total Spending')\n",
    "\n",
    "# Plot 3.2.  for Income Group\n",
    "df_grouped_income.plot(kind='bar', stacked=True, ax=axes[0, 0])\n",
    "axes[0, 1].set_title('Proportion of Product Purchases by Income Group')\n",
    "axes[0, 1].set_xlabel('Income Group')\n",
    "axes[0, 1].set_ylabel('Proportion of Total Spending')\n",
    "\n",
    "# Plot 3.3.  for Education\n",
    "df_grouped_education.plot(kind='bar', stacked=True, ax=axes[1, 0], cmap='tab20')\n",
    "axes[1, 0].set_title('Proportion of Product Purchases by Education Level')\n",
    "axes[1, 0].set_xlabel('Education Level')\n",
    "axes[1, 0].set_ylabel('Proportion of Total Spending')\n",
    "\n",
    "# Plot 3.4. for Marital Status\n",
    "df_grouped_marital.plot(kind='bar', stacked=True, ax=axes[1, 1], cmap='tab20')\n",
    "axes[1, 1].set_title('Proportion of Product Purchases by Marital Status')\n",
    "axes[1, 1].set_xlabel('Marital Status')\n",
    "axes[1, 1].set_ylabel('Proportion of Total Spending')\n",
    "\n",
    "# Adjust layout\n",
    "plt.tight_layout()\n",
    "plt.show()\n"
   ]
  },
  {
   "cell_type": "markdown",
   "metadata": {
    "id": "_L58cTzZiEGv"
   },
   "source": [
    "Comment: As mentioned in ***Spending*** part above, there are 2 categories show the highest spending among customers and extreme outliers, which is **Wine** and **Meat** categories. The main reason lies in the income group, as it has a significantly different spending pattern compared to other variables, while the other variables exhibit similar patterns across groups:\n",
    "- Lower-income groups tend to spend more on daily essentials (e.g., meat, fruits, and fish), which is different from other groups who spend a larger proportion on wines.\n",
    "- The proportion of gold product purchases decreases from lower-income groups to higher-income groups, suggesting that lower-income groups tend to spend more on valuable assets like gold rather than on luxury items like wine.\n",
    "- For age groups, education levels, and marital status, the proportion of spending remains relatively consistent across categories, indicating that these factors have less influence on product preference compared to income."
   ]
  },
  {
   "cell_type": "code",
   "execution_count": null,
   "metadata": {},
   "outputs": [],
   "source": []
  },
  {
   "cell_type": "code",
   "execution_count": 90,
   "metadata": {
    "colab": {
     "base_uri": "https://localhost:8080/",
     "height": 658
    },
    "id": "VYLyaMOajKN1",
    "outputId": "01a9d12a-4257-42ce-df96-9d2af9cc4eb3"
   },
   "outputs": [
    {
     "ename": "KeyError",
     "evalue": "\"['Year_Birth', 'Kidhome', 'Teenhome'] not in index\"",
     "output_type": "error",
     "traceback": [
      "\u001b[1;31m---------------------------------------------------------------------------\u001b[0m",
      "\u001b[1;31mKeyError\u001b[0m                                  Traceback (most recent call last)",
      "Cell \u001b[1;32mIn[90], line 9\u001b[0m\n\u001b[0;32m      1\u001b[0m \u001b[38;5;66;03m# Creating a subset of the dataframe with relevant features for correlation analysis\u001b[39;00m\n\u001b[0;32m      2\u001b[0m selected_columns \u001b[38;5;241m=\u001b[39m [\u001b[38;5;124m'\u001b[39m\u001b[38;5;124mYear_Birth\u001b[39m\u001b[38;5;124m'\u001b[39m, \u001b[38;5;124m'\u001b[39m\u001b[38;5;124mIncome\u001b[39m\u001b[38;5;124m'\u001b[39m, \u001b[38;5;124m'\u001b[39m\u001b[38;5;124mKidhome\u001b[39m\u001b[38;5;124m'\u001b[39m, \u001b[38;5;124m'\u001b[39m\u001b[38;5;124mTeenhome\u001b[39m\u001b[38;5;124m'\u001b[39m, \u001b[38;5;124m'\u001b[39m\u001b[38;5;124mRecency\u001b[39m\u001b[38;5;124m'\u001b[39m,\n\u001b[0;32m      3\u001b[0m                     \u001b[38;5;124m'\u001b[39m\u001b[38;5;124mMntWines\u001b[39m\u001b[38;5;124m'\u001b[39m, \u001b[38;5;124m'\u001b[39m\u001b[38;5;124mMntFruits\u001b[39m\u001b[38;5;124m'\u001b[39m, \u001b[38;5;124m'\u001b[39m\u001b[38;5;124mMntMeatProducts\u001b[39m\u001b[38;5;124m'\u001b[39m, \u001b[38;5;124m'\u001b[39m\u001b[38;5;124mMntFishProducts\u001b[39m\u001b[38;5;124m'\u001b[39m,\n\u001b[0;32m      4\u001b[0m                     \u001b[38;5;124m'\u001b[39m\u001b[38;5;124mMntSweetProducts\u001b[39m\u001b[38;5;124m'\u001b[39m, \u001b[38;5;124m'\u001b[39m\u001b[38;5;124mMntGoldProds\u001b[39m\u001b[38;5;124m'\u001b[39m, \u001b[38;5;124m'\u001b[39m\u001b[38;5;124mNumDealsPurchases\u001b[39m\u001b[38;5;124m'\u001b[39m,\n\u001b[0;32m      5\u001b[0m                     \u001b[38;5;124m'\u001b[39m\u001b[38;5;124mNumWebPurchases\u001b[39m\u001b[38;5;124m'\u001b[39m, \u001b[38;5;124m'\u001b[39m\u001b[38;5;124mNumCatalogPurchases\u001b[39m\u001b[38;5;124m'\u001b[39m, \u001b[38;5;124m'\u001b[39m\u001b[38;5;124mNumStorePurchases\u001b[39m\u001b[38;5;124m'\u001b[39m,\n\u001b[0;32m      6\u001b[0m                     \u001b[38;5;124m'\u001b[39m\u001b[38;5;124mNumWebVisitsMonth\u001b[39m\u001b[38;5;124m'\u001b[39m, \u001b[38;5;124m'\u001b[39m\u001b[38;5;124mAcceptedCmp3\u001b[39m\u001b[38;5;124m'\u001b[39m, \u001b[38;5;124m'\u001b[39m\u001b[38;5;124mAcceptedCmp4\u001b[39m\u001b[38;5;124m'\u001b[39m, \u001b[38;5;124m'\u001b[39m\u001b[38;5;124mAcceptedCmp5\u001b[39m\u001b[38;5;124m'\u001b[39m,\n\u001b[0;32m      7\u001b[0m                     \u001b[38;5;124m'\u001b[39m\u001b[38;5;124mAcceptedCmp1\u001b[39m\u001b[38;5;124m'\u001b[39m, \u001b[38;5;124m'\u001b[39m\u001b[38;5;124mAcceptedCmp2\u001b[39m\u001b[38;5;124m'\u001b[39m, \u001b[38;5;124m'\u001b[39m\u001b[38;5;124mComplain\u001b[39m\u001b[38;5;124m'\u001b[39m, \u001b[38;5;124m'\u001b[39m\u001b[38;5;124mResponse\u001b[39m\u001b[38;5;124m'\u001b[39m]\n\u001b[1;32m----> 9\u001b[0m sub_df \u001b[38;5;241m=\u001b[39m \u001b[43mdf\u001b[49m\u001b[43m[\u001b[49m\u001b[43mselected_columns\u001b[49m\u001b[43m]\u001b[49m\n\u001b[0;32m     11\u001b[0m \u001b[38;5;66;03m# Calculating the correlation matrix\u001b[39;00m\n\u001b[0;32m     12\u001b[0m corr_matrix \u001b[38;5;241m=\u001b[39m sub_df\u001b[38;5;241m.\u001b[39mcorr()\n",
      "File \u001b[1;32m~\\anaconda3\\envs\\Python3_9\\lib\\site-packages\\pandas\\core\\frame.py:4108\u001b[0m, in \u001b[0;36mDataFrame.__getitem__\u001b[1;34m(self, key)\u001b[0m\n\u001b[0;32m   4106\u001b[0m     \u001b[38;5;28;01mif\u001b[39;00m is_iterator(key):\n\u001b[0;32m   4107\u001b[0m         key \u001b[38;5;241m=\u001b[39m \u001b[38;5;28mlist\u001b[39m(key)\n\u001b[1;32m-> 4108\u001b[0m     indexer \u001b[38;5;241m=\u001b[39m \u001b[38;5;28;43mself\u001b[39;49m\u001b[38;5;241;43m.\u001b[39;49m\u001b[43mcolumns\u001b[49m\u001b[38;5;241;43m.\u001b[39;49m\u001b[43m_get_indexer_strict\u001b[49m\u001b[43m(\u001b[49m\u001b[43mkey\u001b[49m\u001b[43m,\u001b[49m\u001b[43m \u001b[49m\u001b[38;5;124;43m\"\u001b[39;49m\u001b[38;5;124;43mcolumns\u001b[39;49m\u001b[38;5;124;43m\"\u001b[39;49m\u001b[43m)\u001b[49m[\u001b[38;5;241m1\u001b[39m]\n\u001b[0;32m   4110\u001b[0m \u001b[38;5;66;03m# take() does not accept boolean indexers\u001b[39;00m\n\u001b[0;32m   4111\u001b[0m \u001b[38;5;28;01mif\u001b[39;00m \u001b[38;5;28mgetattr\u001b[39m(indexer, \u001b[38;5;124m\"\u001b[39m\u001b[38;5;124mdtype\u001b[39m\u001b[38;5;124m\"\u001b[39m, \u001b[38;5;28;01mNone\u001b[39;00m) \u001b[38;5;241m==\u001b[39m \u001b[38;5;28mbool\u001b[39m:\n",
      "File \u001b[1;32m~\\anaconda3\\envs\\Python3_9\\lib\\site-packages\\pandas\\core\\indexes\\base.py:6200\u001b[0m, in \u001b[0;36mIndex._get_indexer_strict\u001b[1;34m(self, key, axis_name)\u001b[0m\n\u001b[0;32m   6197\u001b[0m \u001b[38;5;28;01melse\u001b[39;00m:\n\u001b[0;32m   6198\u001b[0m     keyarr, indexer, new_indexer \u001b[38;5;241m=\u001b[39m \u001b[38;5;28mself\u001b[39m\u001b[38;5;241m.\u001b[39m_reindex_non_unique(keyarr)\n\u001b[1;32m-> 6200\u001b[0m \u001b[38;5;28;43mself\u001b[39;49m\u001b[38;5;241;43m.\u001b[39;49m\u001b[43m_raise_if_missing\u001b[49m\u001b[43m(\u001b[49m\u001b[43mkeyarr\u001b[49m\u001b[43m,\u001b[49m\u001b[43m \u001b[49m\u001b[43mindexer\u001b[49m\u001b[43m,\u001b[49m\u001b[43m \u001b[49m\u001b[43maxis_name\u001b[49m\u001b[43m)\u001b[49m\n\u001b[0;32m   6202\u001b[0m keyarr \u001b[38;5;241m=\u001b[39m \u001b[38;5;28mself\u001b[39m\u001b[38;5;241m.\u001b[39mtake(indexer)\n\u001b[0;32m   6203\u001b[0m \u001b[38;5;28;01mif\u001b[39;00m \u001b[38;5;28misinstance\u001b[39m(key, Index):\n\u001b[0;32m   6204\u001b[0m     \u001b[38;5;66;03m# GH 42790 - Preserve name from an Index\u001b[39;00m\n",
      "File \u001b[1;32m~\\anaconda3\\envs\\Python3_9\\lib\\site-packages\\pandas\\core\\indexes\\base.py:6252\u001b[0m, in \u001b[0;36mIndex._raise_if_missing\u001b[1;34m(self, key, indexer, axis_name)\u001b[0m\n\u001b[0;32m   6249\u001b[0m     \u001b[38;5;28;01mraise\u001b[39;00m \u001b[38;5;167;01mKeyError\u001b[39;00m(\u001b[38;5;124mf\u001b[39m\u001b[38;5;124m\"\u001b[39m\u001b[38;5;124mNone of [\u001b[39m\u001b[38;5;132;01m{\u001b[39;00mkey\u001b[38;5;132;01m}\u001b[39;00m\u001b[38;5;124m] are in the [\u001b[39m\u001b[38;5;132;01m{\u001b[39;00maxis_name\u001b[38;5;132;01m}\u001b[39;00m\u001b[38;5;124m]\u001b[39m\u001b[38;5;124m\"\u001b[39m)\n\u001b[0;32m   6251\u001b[0m not_found \u001b[38;5;241m=\u001b[39m \u001b[38;5;28mlist\u001b[39m(ensure_index(key)[missing_mask\u001b[38;5;241m.\u001b[39mnonzero()[\u001b[38;5;241m0\u001b[39m]]\u001b[38;5;241m.\u001b[39munique())\n\u001b[1;32m-> 6252\u001b[0m \u001b[38;5;28;01mraise\u001b[39;00m \u001b[38;5;167;01mKeyError\u001b[39;00m(\u001b[38;5;124mf\u001b[39m\u001b[38;5;124m\"\u001b[39m\u001b[38;5;132;01m{\u001b[39;00mnot_found\u001b[38;5;132;01m}\u001b[39;00m\u001b[38;5;124m not in index\u001b[39m\u001b[38;5;124m\"\u001b[39m)\n",
      "\u001b[1;31mKeyError\u001b[0m: \"['Year_Birth', 'Kidhome', 'Teenhome'] not in index\""
     ]
    }
   ],
   "source": [
    "# Creating a subset of the dataframe with relevant features for correlation analysis\n",
    "selected_columns = ['Year_Birth', 'Income', 'Kidhome', 'Teenhome', 'Recency',\n",
    "                    'MntWines', 'MntFruits', 'MntMeatProducts', 'MntFishProducts',\n",
    "                    'MntSweetProducts', 'MntGoldProds', 'NumDealsPurchases',\n",
    "                    'NumWebPurchases', 'NumCatalogPurchases', 'NumStorePurchases',\n",
    "                    'NumWebVisitsMonth', 'AcceptedCmp3', 'AcceptedCmp4', 'AcceptedCmp5',\n",
    "                    'AcceptedCmp1', 'AcceptedCmp2', 'Complain', 'Response']\n",
    "\n",
    "sub_df = df[selected_columns]\n",
    "\n",
    "# Calculating the correlation matrix\n",
    "corr_matrix = sub_df.corr()\n",
    "\n",
    "# Plot4: Plotting the heatmap\n",
    "plt.figure(figsize=(16, 8))\n",
    "sns.heatmap(corr_matrix, annot=True, fmt='.2f', linewidths=0.5)\n",
    "plt.title('Correlation Heatmap of Selected Features')\n",
    "plt.tight_layout()\n",
    "plt.show()\n"
   ]
  },
  {
   "cell_type": "markdown",
   "metadata": {
    "id": "fNZMmxpIjd9T"
   },
   "source": [
    "Comment:\n",
    "\n",
    "- There is a strong positive correlation between expenses and amount spent on wine and meat products in the past 2 years. This may suggest that these are more expensive products that greatly contributes to a customer's overall expenses.\n",
    "- There is also a strong positive correlation between amount spent on wine products in the past 2 years and amount spent on meat products in the past 2 years, number of purchases made through the company's website, number of purchases made using a catalog, number of purchases made directly in stores, number of total purchases from each channel, total campaigns accepted, and amount spent per purchase.\n",
    "- Number of visits to the company's website in the last month has a moderately strong negative correlation to amount spent on wine, fruits, meat, fish, sweet, and gold products in the past 2 years.\n",
    "- There is a strong positive correlation between number of total purchases and number of purchases made through the company's website or directly in stores.\n",
    "- There is also a strong positive correlation between number of purchases made using a catalog and expenses.\n",
    "- The negative correlation between number of visits to the company's website in the last month and number of purchases made using a catalog or directly in stores makes sense because if customers are using these channels to make purchases, they probably don't have to visit the company's website.\n",
    "- The moderately strong positive correlation between expenses and number of total purchases and amount per purchase makes sense because if a customer spends more, they probably made more purchases and spent more for each purchase.\n",
    "-There is a negative correlation between expenses and number of visits to the company's website in the last month."
   ]
  },
  {
   "cell_type": "markdown",
   "metadata": {
    "id": "Ys7iDFO1f5Eo"
   },
   "source": [
    "## **D. Data Preprocessing**"
   ]
  },
  {
   "cell_type": "markdown",
   "metadata": {
    "id": "EPk12gFTekXh"
   },
   "source": [
    "In this **section D**, we apply feature scaling to prepare the dataset for clustering. Scaling is critical for distance-based algorithms like K-Means, as features with larger numerical ranges (e.g., income) could dominate the clustering process, leading to biased results.\n",
    "\n",
    "* Label Encoding Categorical Variables\n",
    " * Categorical features (Education, Marital_Status) are encoded using LabelEncoder to convert them into numerical values.\n",
    "\n",
    "* Dropping Irrelevant Features\n",
    " * Features related to promotions (AcceptedCmp1, AcceptedCmp2, etc.) are excluded, as they represent marketing outcomes rather than core customer behavior, ensuring unbiased clustering.\n",
    "\n",
    "* Standard Scaling\n",
    " * Apply StandardScaler to ensure all features have a mean of 0 and standard deviation of 1, so they contribute equally to the clustering process.\n",
    "\n",
    "By the end of this step, the data is ready for clustering with all features properly scaled."
   ]
  },
  {
   "cell_type": "code",
   "execution_count": null,
   "metadata": {
    "colab": {
     "base_uri": "https://localhost:8080/"
    },
    "id": "5555vi5-z_Z3",
    "outputId": "970919a6-597a-433e-f80b-a76c4686d4da"
   },
   "outputs": [],
   "source": [
    "df.info()"
   ]
  },
  {
   "cell_type": "code",
   "execution_count": null,
   "metadata": {
    "colab": {
     "base_uri": "https://localhost:8080/"
    },
    "id": "wvO6NVUXcRAl",
    "outputId": "2fa8be1e-cefd-4062-97e8-4a1add402358"
   },
   "outputs": [],
   "source": [
    "#Get list of categorical variables\n",
    "s = (df.dtypes == 'object')\n",
    "object_cols = list(s[s].index)\n",
    "\n",
    "print(\"Categorical variables in the dataset:\", object_cols)"
   ]
  },
  {
   "cell_type": "code",
   "execution_count": null,
   "metadata": {
    "id": "qysiGDy3a2q7"
   },
   "outputs": [],
   "source": [
    "#Label Encoding the object dtypes.\n",
    "LE=LabelEncoder()\n",
    "for i in object_cols:\n",
    "    df[i]=df[[i]].apply(LE.fit_transform)"
   ]
  },
  {
   "cell_type": "code",
   "execution_count": null,
   "metadata": {
    "id": "ytUGDNoea5hF"
   },
   "outputs": [],
   "source": [
    "# Creating a copy of data\n",
    "ds = df.copy()\n",
    "# creating a subset of dataframe by dropping the features on deals accepted and promotions\n",
    "\"\"\"these features are not direct indicators of customer behavior but rather outcomes of past promotions,\n",
    "   include them may bias the clustering process toward recent campaigns rather than actual customer traits.\"\"\"\n",
    "\n",
    "cols_del = ['AcceptedCmp3', 'AcceptedCmp4', 'AcceptedCmp5', 'AcceptedCmp1','AcceptedCmp2', 'Complain', 'Response','Income_Bin','Age_Group']\n",
    "ds = ds.drop(cols_del, axis=1)"
   ]
  },
  {
   "cell_type": "code",
   "execution_count": null,
   "metadata": {
    "colab": {
     "base_uri": "https://localhost:8080/"
    },
    "id": "ofk-iYGdboCP",
    "outputId": "72824ddc-3b4d-4077-b984-72c6c42a61e8"
   },
   "outputs": [],
   "source": [
    "# Scaling: ensures that all features contribute equally by transforming them to have a mean of 0 and standard deviation of 1.\n",
    "from sklearn.preprocessing import StandardScaler\n",
    "\n",
    "scaler = StandardScaler()\n",
    "scaler.fit(ds)\n",
    "scaled_ds = pd.DataFrame(scaler.transform(ds),columns= ds.columns )\n",
    "print(\"All features are now scaled\")"
   ]
  },
  {
   "cell_type": "markdown",
   "metadata": {
    "id": "uW_991_H1gNm"
   },
   "source": [
    "# **3. Dimensionality Reduction**\n",
    "\n"
   ]
  },
  {
   "cell_type": "markdown",
   "metadata": {
    "id": "vJl281d_QrfX"
   },
   "source": [
    "The higher the number of features, the harder it is to work with it for clustering. Many of these features are correlated, hence redundant and it causes multicollinearity, which affects the clustering method and results in poor cluster profiling (or biased toward a few variables). This is why we will be performing dimensionality reduction on the selected features before putting them through a classifier.  \n",
    "*Dimensionality reduction is the process of reducing the number of random variables under consideration, by obtaining a set of principal variables.*\n",
    "\n",
    "**Principal component analysis (PCA)** is a technique for reducing the dimensionality of such datasets, increasing interpretability but at the same time minimizing information loss.\n",
    "\n",
    "**Steps in this section:**\n",
    "* Dimensionality reduction with PCA\n",
    "* Plotting the reduced dataframe\n",
    "\n",
    "**Dimensionality reduction with PCA**\n",
    "\n",
    "For this project, we will reduce the dimensions to 3."
   ]
  },
  {
   "cell_type": "code",
   "execution_count": null,
   "metadata": {
    "colab": {
     "base_uri": "https://localhost:8080/",
     "height": 143
    },
    "id": "I6UiKwSh1iTa",
    "outputId": "001973e2-3412-4561-9d69-e9f37726244e"
   },
   "outputs": [],
   "source": [
    "#Initiating PCA to reduce dimentions aka features to 3\n",
    "pca = PCA(n_components=3)\n",
    "pca.fit(scaled_ds)\n",
    "PCA_ds = pd.DataFrame(pca.transform(scaled_ds), columns=([\"col1\",\"col2\", \"col3\"]))\n",
    "PCA_ds.describe().T"
   ]
  },
  {
   "cell_type": "code",
   "execution_count": null,
   "metadata": {
    "colab": {
     "base_uri": "https://localhost:8080/",
     "height": 424
    },
    "id": "NT9r9Dpz8lr8",
    "outputId": "a8cd0ab7-71d4-48ce-8fe8-2926c2968914"
   },
   "outputs": [],
   "source": [
    "PCA_ds"
   ]
  },
  {
   "cell_type": "code",
   "execution_count": null,
   "metadata": {
    "colab": {
     "base_uri": "https://localhost:8080/",
     "height": 675
    },
    "id": "COVyHOeB1rqW",
    "outputId": "f6c6f25a-cfd1-4934-85ef-04e1bf273977"
   },
   "outputs": [],
   "source": [
    "#A 3D Projection Of Data In The Reduced Dimension\n",
    "x =PCA_ds[\"col1\"]\n",
    "y =PCA_ds[\"col2\"]\n",
    "z =PCA_ds[\"col3\"]\n",
    "#To plot\n",
    "fig = plt.figure(figsize=(10,8))\n",
    "ax = fig.add_subplot(111, projection=\"3d\")\n",
    "ax.scatter(x,y,z, marker=\"o\" )\n",
    "ax.set_title(\"A 3D Projection Of Data In The Reduced Dimension\")\n",
    "plt.show()"
   ]
  },
  {
   "cell_type": "markdown",
   "metadata": {
    "id": "_RXWwbtWiC4K"
   },
   "source": [
    "# **của chị đến đây hết rồi nhé m đừng có động vào**\n"
   ]
  },
  {
   "cell_type": "markdown",
   "metadata": {
    "id": "49Z8sxOX21G7"
   },
   "source": [
    "Customer Analytics by <u>**STP**</u> : Segmentation, Targeting and Positioning <br>\n",
    "**1-Segmentation:** dividing a population into groups that share similar charachteristics.<br>\n",
    "**2-Targeting:** evaluating potential profits from segments and deciding which segment to focus on.<br>\n",
    "**3-Positioning:** what product would have the closest characteristics to customers' need.  \n",
    "\n",
    "\n",
    "<a id=\"6\"></a>\n",
    "# <p style=\"background-color:#682F2F;font-family:newtimeroman;color:#FFF9ED;font-size:150%;text-align:center;border-radius:10px 10px;\">SEGMENTATION</p>\n",
    "\n",
    "\n",
    "**Main benefits of segmentation:**\n",
    "<ol><li>Increase sales/revenue\n",
    "<li>Improve marketing\n",
    "<li>Increase customer retention / decrease churn\n",
    "</ol>\n",
    "\n",
    "Now that I have reduced the attributes to three dimensions, I will be performing segmentation by clustering via Agglomerative clustering. Agglomerative clustering is a hierarchical clustering method.  It involves merging examples until the desired number of clusters is achieved.\n",
    "\n",
    "**Steps involved in the Clustering**\n",
    "* Elbow Method to determine the number of clusters to be formed\n",
    "* Clustering via Agglomerative Clustering\n",
    "* Examining the clusters formed via scatter plot"
   ]
  },
  {
   "cell_type": "code",
   "execution_count": null,
   "metadata": {
    "id": "-seKvVMY2-Ki"
   },
   "outputs": [],
   "source": [
    "from yellowbrick.cluster import KElbowVisualizer\n"
   ]
  },
  {
   "cell_type": "code",
   "execution_count": null,
   "metadata": {
    "id": "IxNtzEiC3Eqe"
   },
   "outputs": [],
   "source": [
    "from sklearn.cluster import KMeans\n",
    "from sklearn.cluster import AgglomerativeClustering\n",
    "\n"
   ]
  },
  {
   "cell_type": "code",
   "execution_count": null,
   "metadata": {
    "id": "ZlWxsPpD-_co"
   },
   "outputs": [],
   "source": []
  },
  {
   "cell_type": "markdown",
   "metadata": {
    "id": "nIgRG3HJ_7rN"
   },
   "source": [
    "**Average silhouette method**\n",
    "*italicized text*\n",
    "\n"
   ]
  },
  {
   "cell_type": "code",
   "execution_count": null,
   "metadata": {
    "colab": {
     "base_uri": "https://localhost:8080/",
     "height": 444
    },
    "id": "XF9UCMWDnuhz",
    "outputId": "a57f5d38-8eaf-419b-b11d-3759efae25b4"
   },
   "outputs": [],
   "source": [
    "scaled_ds"
   ]
  },
  {
   "cell_type": "code",
   "execution_count": null,
   "metadata": {
    "colab": {
     "base_uri": "https://localhost:8080/",
     "height": 1000
    },
    "id": "yPEB0vyXAI1c",
    "outputId": "2b6cd801-3535-4e22-d941-a7f24e92b9e1"
   },
   "outputs": [],
   "source": [
    "# Credit\n",
    "# https://scikit-learn.org/stable/auto_examples/cluster/plot_kmeans_silhouette_analysis.html\n",
    "from matplotlib import cm\n",
    "from sklearn.metrics import silhouette_samples, silhouette_score\n",
    "\n",
    "cluster_range = [2, 3, 4, 5, 6, 7, 8, 9, 10]\n",
    "\n",
    "for n_clusters in cluster_range:\n",
    "    fig, (ax1, ax2) = plt.subplots(1,2)\n",
    "    fig.set_size_inches(18, 7)\n",
    "\n",
    "    ax1.set_xlim([-0.8, 0.8])\n",
    "\n",
    "    ax1.set_ylim([0, len(scaled_ds) + (n_clusters + 1) * 10])\n",
    "\n",
    "    # Cluster\n",
    "    clusterer = KMeans(n_clusters=n_clusters, random_state=10)\n",
    "    cluster_labels = clusterer.fit_predict(PCA_ds)\n",
    "\n",
    "    silhouette_avg = silhouette_score(ds, cluster_labels)\n",
    "    print(\n",
    "        \"For n_clusters =\",\n",
    "        n_clusters,\n",
    "        \"The average silhouette_score is :\",\n",
    "        silhouette_avg,\n",
    "    )\n",
    "\n",
    "    sample_silhouette_values = silhouette_samples(ds, cluster_labels)\n",
    "\n",
    "    y_lower = 10\n",
    "    for i in range(n_clusters):\n",
    "        # Aggregate the silhouette scores for samples belonging to\n",
    "        # cluster i, and sort them\n",
    "        ith_cluster_silhouette_values = sample_silhouette_values[cluster_labels == i]\n",
    "\n",
    "        ith_cluster_silhouette_values.sort()\n",
    "\n",
    "        size_cluster_i = ith_cluster_silhouette_values.shape[0]\n",
    "        y_upper = y_lower + size_cluster_i\n",
    "\n",
    "        color = cm.nipy_spectral(float(i) / n_clusters)\n",
    "        ax1.fill_betweenx(\n",
    "            np.arange(y_lower, y_upper),\n",
    "            0,\n",
    "            ith_cluster_silhouette_values,\n",
    "            facecolor=color,\n",
    "            edgecolor=color,\n",
    "            alpha=0.7,\n",
    "        )\n",
    "\n",
    "        # Label the silhouette plots with their cluster numbers at the middle\n",
    "        ax1.text(-0.05, y_lower + 0.5 * size_cluster_i, str(i))\n",
    "\n",
    "        # Compute the new y_lower for next plot\n",
    "        y_lower = y_upper + 10  # 10 for the 0 samples\n",
    "\n",
    "    ax1.set_title(\"The silhouette plot for the various clusters.\")\n",
    "    ax1.set_xlabel(\"The silhouette coefficient values\")\n",
    "    ax1.set_ylabel(\"Cluster label\")\n",
    "\n",
    "    # The vertical line for average silhouette score of all the values\n",
    "    ax1.axvline(x=silhouette_avg, color=\"red\", linestyle=\"--\")\n",
    "\n",
    "    ax1.set_yticks([])  # Clear the yaxis labels / ticks\n",
    "    ax1.set_xticks([-0.8, -0.6, -0.4, -0.3, -0.2, -0.1, 0, 0.2, 0.4, 0.6, 0.8])\n",
    "\n",
    "    # 2nd Plot showing the actual clusters formed\n",
    "    colors = cm.nipy_spectral(cluster_labels.astype(float) / n_clusters)\n",
    "    ax2.scatter(\n",
    "        scaled_ds['MntWines'], scaled_ds['Income'], marker=\".\", s=30, lw=0, alpha=0.7, edgecolor=\"k\"\n",
    "    )\n",
    "\n",
    "    # Labeling the clusters\n",
    "    centers = clusterer.cluster_centers_\n",
    "    # Draw white circles at cluster centers\n",
    "    ax2.scatter(\n",
    "        centers[:, 0],\n",
    "        centers[:, 1],\n",
    "        marker=\"o\",\n",
    "        c=\"white\",\n",
    "        alpha=1,\n",
    "        s=200,\n",
    "        edgecolor=\"k\",\n",
    "    )\n",
    "\n",
    "    for i, c in enumerate(centers):\n",
    "        ax2.scatter(c[0], c[1], marker=\"$%d$\" % i, alpha=1, s=50, edgecolor=\"k\")\n",
    "\n",
    "    ax2.set_title(\"The visualization of the clustered data.\")\n",
    "    ax2.set_xlabel(\"Feature space for the 1st feature\")\n",
    "    ax2.set_ylabel(\"Feature space for the 2nd feature\")\n",
    "\n",
    "    plt.suptitle(\n",
    "        \"Silhouette analysis for KMeans clustering on sample data with n_clusters = %d\"\n",
    "        % n_clusters,\n",
    "        fontsize=14,\n",
    "        fontweight=\"bold\",\n",
    "    )\n",
    "\n",
    "    plt.show()"
   ]
  },
  {
   "cell_type": "markdown",
   "metadata": {
    "id": "IrEvkiaA-_yT"
   },
   "source": [
    "**Sử dụng elbow method tìm số cụm**"
   ]
  },
  {
   "cell_type": "code",
   "execution_count": null,
   "metadata": {
    "id": "w97TxUw9jnGc"
   },
   "outputs": [],
   "source": []
  },
  {
   "cell_type": "code",
   "execution_count": null,
   "metadata": {
    "colab": {
     "base_uri": "https://localhost:8080/",
     "height": 559
    },
    "id": "5RSZ3EOl22NA",
    "outputId": "fdc45d3e-50f0-4ba2-c918-84a1367273a5"
   },
   "outputs": [],
   "source": [
    "# Quick examination of elbow method to find numbers of clusters to make.\n",
    "print('Elbow Method to determine the number of clusters to be formed:')\n",
    "Elbow_M = KElbowVisualizer(KMeans(), k=10)\n",
    "Elbow_M.fit(PCA_ds)\n",
    "Elbow_M.show()"
   ]
  },
  {
   "cell_type": "code",
   "execution_count": null,
   "metadata": {
    "id": "mHnvm72HXmaV"
   },
   "outputs": [],
   "source": [
    "Thong dich ket qua"
   ]
  },
  {
   "cell_type": "markdown",
   "metadata": {
    "id": "zYNlSUlv_M8u"
   },
   "source": [
    "\n",
    "---\n",
    "\n",
    "**Sử dụng agglomerative (Chiến lược hợp nhất để phân cụm)**"
   ]
  },
  {
   "cell_type": "code",
   "execution_count": null,
   "metadata": {
    "id": "Cweql-zxANeb"
   },
   "outputs": [],
   "source": [
    "#Initiating the Agglomerative Clustering model\n",
    "AC = AgglomerativeClustering(n_clusters=4)\n",
    "# fit model and predict clusters\n",
    "yhat_AC = AC.fit_predict(PCA_ds)\n",
    "PCA_ds[\"Clusters\"] = yhat_AC\n",
    "#Adding the Clusters feature to the orignal dataframe.\n",
    "df[\"Clusters\"]= yhat_AC"
   ]
  },
  {
   "cell_type": "code",
   "execution_count": null,
   "metadata": {
    "id": "Suzc-OYE26Wk"
   },
   "outputs": [],
   "source": [
    "#Initiating the Agglomerative Clustering model\n",
    "AC = AgglomerativeClustering(n_clusters=4)\n",
    "# fit model and predict clusters\n",
    "yhat_AC = AC.fit_predict(PCA_ds)\n",
    "PCA_ds[\"Clusters\"] = yhat_AC\n",
    "#Adding the Clusters feature to the orignal dataframe.\n",
    "scaled_ds[\"Clusters\"]= yhat_AC"
   ]
  },
  {
   "cell_type": "code",
   "execution_count": null,
   "metadata": {
    "id": "cdH3Q1YZqERV"
   },
   "outputs": [],
   "source": [
    "from mpl_toolkits.mplot3d import Axes3D\n",
    "import matplotlib.pyplot as plt\n",
    "\n",
    "# Define a colormap (e.g., 'viridis')\n",
    "cmap = 'viridis'"
   ]
  },
  {
   "cell_type": "code",
   "execution_count": null,
   "metadata": {
    "colab": {
     "base_uri": "https://localhost:8080/",
     "height": 676
    },
    "id": "a_q-gysj3Y7-",
    "outputId": "b9a8c2f5-f560-489e-f358-0e327c6767bd"
   },
   "outputs": [],
   "source": [
    "#Plotting the clusters\n",
    "fig = plt.figure(figsize=(10,8))\n",
    "ax = plt.subplot(111, projection='3d', label=\"bla\")\n",
    "ax.scatter(x, y, z, s=40, c=df[\"Clusters\"], marker='o', cmap = cmap )\n",
    "ax.set_title(\"The Plot Of The Clusters\")\n",
    "plt.show()"
   ]
  },
  {
   "cell_type": "markdown",
   "metadata": {
    "id": "AFA6u6J37qll"
   },
   "source": [
    "<a id=\"7\"></a>\n",
    "# <p style=\"background-color:#682F2F;font-family:newtimeroman;color:#FFF9ED;font-size:150%;text-align:center;border-radius:10px 10px;\">EVALUATING MODELS</p>\n",
    "\n",
    "Since this is an unsupervised clustering. We do not have a tagged feature to evaluate or score our model. The purpose of this section is to study the patterns in the clusters formed and determine the nature of the clusters' patterns.\n",
    "\n",
    "For that, we will be having a look at the data in light of clusters via exploratory data analysis and drawing conclusions.\n",
    "\n",
    "**Firstly, let us have a look at the group distribution of clustring**"
   ]
  },
  {
   "cell_type": "code",
   "execution_count": null,
   "metadata": {
    "id": "iQ4GE8TsAJnD"
   },
   "outputs": [],
   "source": []
  },
  {
   "cell_type": "code",
   "execution_count": null,
   "metadata": {
    "colab": {
     "base_uri": "https://localhost:8080/",
     "height": 611
    },
    "id": "A0TncmFd7y0F",
    "outputId": "5e0f9714-38c8-43c2-b261-1d315c389239"
   },
   "outputs": [],
   "source": [
    "#Plotting countplot of clusters\n",
    "pal = [\"#682F2F\",\"#B9C0C9\", \"#9F8A78\",\"#F3AB60\"]\n",
    "pl = sns.countplot(x=scaled_ds[\"Clusters\"], palette= pal)\n",
    "pl.set_title(\"Distribution Of The Clusters\")\n",
    "plt.show()"
   ]
  },
  {
   "cell_type": "code",
   "execution_count": null,
   "metadata": {
    "colab": {
     "base_uri": "https://localhost:8080/",
     "height": 524
    },
    "id": "K4lSCxYo75Sr",
    "outputId": "b3ac7a5c-7024-4e6a-9b09-08a9e64cfd86"
   },
   "outputs": [],
   "source": [
    "pl = sns.scatterplot(data = data,x=scaled_ds[\"Spent\"], y=scaled_ds[\"Income\"],hue=scaled_ds[\"Clusters\"], palette= pal)\n",
    "pl.set_title(\"Cluster's Profile Based On Income And Spending\")\n",
    "plt.legend()\n",
    "plt.show()"
   ]
  },
  {
   "cell_type": "markdown",
   "metadata": {
    "id": "dEodmaHErhH1"
   },
   "source": []
  },
  {
   "cell_type": "code",
   "execution_count": null,
   "metadata": {
    "colab": {
     "base_uri": "https://localhost:8080/",
     "height": 708
    },
    "id": "ZLzKd85-rEer",
    "outputId": "2f36e518-42c3-4bab-ab5b-cdccb86a047f"
   },
   "outputs": [],
   "source": [
    "plt.figure()\n",
    "pl=sns.swarmplot(x=scaled_ds[\"Clusters\"], y=scaled_ds[\"Spent\"], color= \"#CBEDDD\", alpha=0.5 )\n",
    "pl=sns.boxenplot(x=scaled_ds[\"Clusters\"], y=scaled_ds[\"Spent\"])\n",
    "plt.show()"
   ]
  },
  {
   "cell_type": "markdown",
   "metadata": {
    "id": "RWVVJ1zZ8MIl"
   },
   "source": [
    "Cụm 0: Nhóm khách hàng này có mức chi tiêu thấp nhất trong tất cả các cụm. Phần lớn các điểm dữ liệu tập trung quanh mức chi tiêu trung bình thấp, với một số ít khách hàng chi tiêu cao hơn nhưng không đáng kể.\n",
    "\n",
    "Cụm 1: Nhóm này có mức chi tiêu cao hơn cụm 0, nhưng vẫn ở mức trung bình thấp. Phân phối dữ liệu tương đối hẹp, tức là các khách hàng trong cụm này có hành vi chi tiêu khá đồng đều.\n",
    "\n",
    "Cụm 2: Đây là cụm có mức chi tiêu cao nhất. Các hộp và điểm dữ liệu cho thấy rằng có nhiều khách hàng chi tiêu ở mức cao hơn trung bình, với một số khách hàng có mức chi tiêu vượt trội (outliers).\n",
    "\n",
    "Cụm 3: Cụm này có mức chi tiêu trung bình, thấp hơn cụm 2 nhưng cao hơn cụm 0 và cụm 1. Sự phân tán dữ liệu của cụm này cũng khá rộng, cho thấy sự đa dạng trong hành vi chi tiêu của khách hàng thuộc nhóm này."
   ]
  },
  {
   "cell_type": "markdown",
   "metadata": {
    "id": "hVCTgxZF-mUM"
   },
   "source": [
    "### ***Chúng ta hãy xem xem hiệu quả của các chiến dịch tiếp thị trong quá khứ là như nào ***"
   ]
  },
  {
   "cell_type": "code",
   "execution_count": null,
   "metadata": {
    "colab": {
     "base_uri": "https://localhost:8080/"
    },
    "id": "zXwC1GIT_VWc",
    "outputId": "3fdd2262-4859-4b20-9c8f-78677a30e333"
   },
   "outputs": [],
   "source": [
    "scaled_ds.columns"
   ]
  },
  {
   "cell_type": "code",
   "execution_count": null,
   "metadata": {
    "colab": {
     "base_uri": "https://localhost:8080/",
     "height": 559
    },
    "id": "RpoEeTuk8Czb",
    "outputId": "4ba8a98e-b18d-429e-b28a-ad046d0322e6"
   },
   "outputs": [],
   "source": [
    "#Creating a feature to get a sum of accepted promotions\n",
    "df[\"Total_Promos\"] = df[\"AcceptedCmp1\"]+ df[\"AcceptedCmp2\"]+ df[\"AcceptedCmp3\"]+ df[\"AcceptedCmp4\"]+ df[\"AcceptedCmp5\"]\n",
    "#Plotting count of total campaign accepted.\n",
    "plt.figure()\n",
    "pl = sns.countplot(x=df[\"Total_Promos\"],hue=df[\"Clusters\"])\n",
    "pl.set_title(\"Count Of Promotion Accepted\")\n",
    "pl.set_xlabel(\"Number Of Total Accepted Promotions\")\n",
    "plt.show()"
   ]
  },
  {
   "cell_type": "markdown",
   "metadata": {
    "id": "x4R-aELuBTFE"
   },
   "source": [
    "Các chiến dịch tiếp thị trước đây chưa nhận được phản hồi tích cực. Số lượng khách hàng tham gia tổng thể rất ít, và đặc biệt, không có ai tham gia cả 5 chiến dịch. Các chiến dịch cần có mục tiêu tốt hơn và lên kế hoạch kỹ lưỡng hơn để tăng doanh số bán hàng.\n"
   ]
  },
  {
   "cell_type": "code",
   "execution_count": null,
   "metadata": {
    "colab": {
     "base_uri": "https://localhost:8080/",
     "height": 559
    },
    "id": "tlcrkHEfBg50",
    "outputId": "ac072424-8af6-4607-bede-4dc4c7c60722"
   },
   "outputs": [],
   "source": [
    "#Plotting the number of deals purchased\n",
    "plt.figure()\n",
    "pl=sns.boxenplot(y=df[\"NumDealsPurchases\"],x=df[\"Clusters\"])\n",
    "pl.set_title(\"Number of Deals Purchased\")\n",
    "plt.show()"
   ]
  },
  {
   "cell_type": "markdown",
   "metadata": {
    "id": "4tbw2VMfB1Bk"
   },
   "source": [
    "\n",
    "Trái ngược với các chiến dịch tiếp thị, các chương trình khuyến mãi đã đạt được hiệu quả tốt, đặc biệt với cụm 1,0 và 3. Tuy nhiên, nhóm khách hàng quan trọng nhất của chúng ta, cụm 2, lại không tham gia nhiều vào các chương trình khuyến mãi này. Điều này cho thấy cần phải thiết kế các chương trình khuyến mãi phù hợp hơn để thu hút sự quan tâm của nhóm khách hàng tiềm năng này."
   ]
  },
  {
   "cell_type": "code",
   "execution_count": null,
   "metadata": {
    "colab": {
     "base_uri": "https://localhost:8080/",
     "height": 1000
    },
    "id": "EAGOQTasBvDz",
    "outputId": "f2830c5b-fd94-4bf2-84c1-0c8730437fb5"
   },
   "outputs": [],
   "source": [
    "#for more details on the purchasing style\n",
    "Places =[\"NumWebPurchases\", \"NumCatalogPurchases\", \"NumStorePurchases\",  \"NumWebVisitsMonth\"]\n",
    "\n",
    "for i in Places:\n",
    "    plt.figure()\n",
    "    sns.jointplot(x=df[i],y = df[\"Spent\"],hue=df[\"Clustersb\"])\n",
    "    plt.show()"
   ]
  },
  {
   "cell_type": "markdown",
   "metadata": {
    "id": "6_P964VNCobs"
   },
   "source": [
    "Profiling the clusters\n",
    "Sau khi đã hình thành các cụm và phân tích thói quen mua sắm của từng cụm, chúng ta sẽ tìm hiểu cụ thể từng nhóm khách hàng trong các cụm này. Để thực hiện điều đó, em sẽ tiến hành profiling (lập hồ sơ) cho các cụm đã được tạo và đưa ra kết luận về nhóm khách hàng nào là \"ngôi sao\" (star customer) và nhóm nào cần sự chú ý nhiều hơn từ đội ngũ tiếp thị của cửa hàng bán lẻ.\n",
    "\n",
    "Để xác định điều này, em sẽ vẽ biểu đồ một số đặc trưng mang tính chất cá nhân của khách hàng, liên quan đến cụm mà họ thuộc về. Dựa trên kết quả phân tích, em sẽ rút ra kết luận nhằm hỗ trợ việc tối ưu hóa chiến lược kinh doanh và tiếp thị."
   ]
  },
  {
   "cell_type": "code",
   "execution_count": null,
   "metadata": {
    "id": "lN0SjiTzXM_q"
   },
   "outputs": [],
   "source": [
    "=> chien luoc tiep thi"
   ]
  },
  {
   "cell_type": "code",
   "execution_count": null,
   "metadata": {
    "colab": {
     "base_uri": "https://localhost:8080/",
     "height": 444
    },
    "id": "NMShmLPgDHIb",
    "outputId": "99cd8222-fe51-4987-a4e8-63c4c7e9e200"
   },
   "outputs": [],
   "source": [
    "df"
   ]
  },
  {
   "cell_type": "code",
   "execution_count": null,
   "metadata": {
    "colab": {
     "base_uri": "https://localhost:8080/"
    },
    "id": "WRS4gWDuEqBz",
    "outputId": "732a7fd8-691b-4060-e9fe-14c7601325e6"
   },
   "outputs": [],
   "source": [
    "data.columns"
   ]
  },
  {
   "cell_type": "code",
   "execution_count": null,
   "metadata": {
    "colab": {
     "base_uri": "https://localhost:8080/",
     "height": 1000
    },
    "id": "I1y98YIiC2nL",
    "outputId": "afdb90e9-e7a4-42c1-89d5-34a0bb82fedb"
   },
   "outputs": [],
   "source": [
    "Personal = [ \"Kidhome\",\"Teenhome\", \"Age\", \"Children\", \"Family_Size\", \"Is_Parent\", \"Education\",\"Living_With\"]\n",
    "\n",
    "for i in Personal:\n",
    "    plt.figure()\n",
    "    sns.jointplot(x=data[i], y=df[\"Spent\"], hue =df[\"Clusters\"], kind=\"kde\")\n",
    "    plt.show()"
   ]
  },
  {
   "cell_type": "markdown",
   "metadata": {
    "id": "TaIkiMt4rgWG"
   },
   "source": []
  },
  {
   "cell_type": "markdown",
   "metadata": {
    "id": "rYJUQgStgVSe"
   },
   "source": [
    "Cluster 0: High-Income Customers Consists of 583 customers Spend a lot and don't tend to make purchases through the company’s website or with a discount Average income of 74,435.61 Spends significantly more compared to the other clusters with an average total amount spent of 1,362.68 and average of 71.11 spent per purchase Spend the most on wine, fruit, meat, fish, sweet, and gold products in the last 2 years Highest average for purchases made using a catalog or directly in store Average age of 48 Don't have kids Highest average for accepting the offers in campaigns 1, 2, 3, 4, 5, and the last campaign"
   ]
  },
  {
   "cell_type": "markdown",
   "metadata": {
    "id": "AcSPJiXzgToo"
   },
   "source": [
    "\n",
    "Cluster 1: Low-Income Customers\n",
    "Twice as big as the other two clusters with a total of 1,072 customers\n",
    "Don’t spend a lot and make more purchases through the company’s website using a discount\n",
    "Spend the least on average for all the products in this dataset\n",
    "Average income for customers in this cluster is 35,708.22\n",
    "Spend an average total amount of 112.64 and only 11.81 per purchase\n",
    "On the younger side compared to the other two clusters with an average age of about 45\n",
    "Have a small child in their household\n"
   ]
  },
  {
   "cell_type": "markdown",
   "metadata": {
    "id": "RjEHRBswgqNX"
   },
   "source": [
    "Cluster 2: Medium-Income Customers\n",
    "Consists of 572 customers\n",
    "Spend a medium amount and seem to make the most purchases through the company’s website using a discount compared to the customers in the other two clusters\n",
    "Average income for this group is 58,347.45\n",
    "Generally older as the average age is about 50\n",
    "In a relationship\n",
    "Have a teenager in the household\n",
    "Average amount these customers spend is 759.70 with an average of 34.94 per purchase\n",
    "Make the most purchases\n",
    "Been with the company the longest"
   ]
  },
  {
   "cell_type": "markdown",
   "metadata": {
    "id": "7FOI5WiZz6kY"
   },
   "source": [
    "Cluster Analysis"
   ]
  },
  {
   "cell_type": "markdown",
   "metadata": {
    "id": "CCI5KFr_z80N"
   },
   "source": [
    "DBSCAN"
   ]
  },
  {
   "cell_type": "code",
   "execution_count": null,
   "metadata": {
    "colab": {
     "base_uri": "https://localhost:8080/",
     "height": 49,
     "referenced_widgets": [
      "9f0c322d74ac475fa0f0af6a110a1c80",
      "c372718b852f4381b88df9826fe31dd1",
      "30249214142241cd88f8592faa552270",
      "32ef48a66018498199985eab656adfbe",
      "b7a0c2278fca47f2b72d197ae03d3b1b",
      "2b96f625c1ef4f5a83b90156805c6efd",
      "d1b2956d47994328ae9a920d9ec79eeb",
      "be0e7026daad4bf7b8a6f9a00daacf47",
      "befe5686271f4b289b5af3097fd58324",
      "2e6ba418bca9435fbc53af1bdc8285c1",
      "b774bf846d1b47879597e8ab3b680096"
     ]
    },
    "id": "fK8enUlGANLy",
    "outputId": "f031b803-6c07-4e57-c56c-5b307afc9a55"
   },
   "outputs": [],
   "source": [
    "import sweetviz as sv\n",
    "report = sv.analyze(df)\n"
   ]
  }
 ],
 "metadata": {
  "colab": {
   "provenance": [],
   "toc_visible": true
  },
  "kernelspec": {
   "display_name": "Python 3 (ipykernel)",
   "language": "python",
   "name": "python3"
  },
  "language_info": {
   "codemirror_mode": {
    "name": "ipython",
    "version": 3
   },
   "file_extension": ".py",
   "mimetype": "text/x-python",
   "name": "python",
   "nbconvert_exporter": "python",
   "pygments_lexer": "ipython3",
   "version": "3.9.19"
  },
  "widgets": {
   "application/vnd.jupyter.widget-state+json": {
    "19ab8e609b8c439690c3af7387c47e91": {
     "model_module": "@jupyter-widgets/base",
     "model_module_version": "1.2.0",
     "model_name": "LayoutModel",
     "state": {
      "_model_module": "@jupyter-widgets/base",
      "_model_module_version": "1.2.0",
      "_model_name": "LayoutModel",
      "_view_count": null,
      "_view_module": "@jupyter-widgets/base",
      "_view_module_version": "1.2.0",
      "_view_name": "LayoutView",
      "align_content": null,
      "align_items": null,
      "align_self": null,
      "border": null,
      "bottom": null,
      "display": "inline-flex",
      "flex": null,
      "flex_flow": "row wrap",
      "grid_area": null,
      "grid_auto_columns": null,
      "grid_auto_flow": null,
      "grid_auto_rows": null,
      "grid_column": null,
      "grid_gap": null,
      "grid_row": null,
      "grid_template_areas": null,
      "grid_template_columns": null,
      "grid_template_rows": null,
      "height": null,
      "justify_content": null,
      "justify_items": null,
      "left": null,
      "margin": null,
      "max_height": null,
      "max_width": null,
      "min_height": null,
      "min_width": null,
      "object_fit": null,
      "object_position": null,
      "order": null,
      "overflow": null,
      "overflow_x": null,
      "overflow_y": null,
      "padding": null,
      "right": null,
      "top": null,
      "visibility": null,
      "width": "100%"
     }
    },
    "291555ad1df249ffbf867c9b41dc6057": {
     "model_module": "@jupyter-widgets/controls",
     "model_module_version": "1.5.0",
     "model_name": "DescriptionStyleModel",
     "state": {
      "_model_module": "@jupyter-widgets/controls",
      "_model_module_version": "1.5.0",
      "_model_name": "DescriptionStyleModel",
      "_view_count": null,
      "_view_module": "@jupyter-widgets/base",
      "_view_module_version": "1.2.0",
      "_view_name": "StyleView",
      "description_width": ""
     }
    },
    "2b96f625c1ef4f5a83b90156805c6efd": {
     "model_module": "@jupyter-widgets/base",
     "model_module_version": "1.2.0",
     "model_name": "LayoutModel",
     "state": {
      "_model_module": "@jupyter-widgets/base",
      "_model_module_version": "1.2.0",
      "_model_name": "LayoutModel",
      "_view_count": null,
      "_view_module": "@jupyter-widgets/base",
      "_view_module_version": "1.2.0",
      "_view_name": "LayoutView",
      "align_content": null,
      "align_items": null,
      "align_self": null,
      "border": null,
      "bottom": null,
      "display": null,
      "flex": null,
      "flex_flow": null,
      "grid_area": null,
      "grid_auto_columns": null,
      "grid_auto_flow": null,
      "grid_auto_rows": null,
      "grid_column": null,
      "grid_gap": null,
      "grid_row": null,
      "grid_template_areas": null,
      "grid_template_columns": null,
      "grid_template_rows": null,
      "height": null,
      "justify_content": null,
      "justify_items": null,
      "left": null,
      "margin": null,
      "max_height": null,
      "max_width": null,
      "min_height": null,
      "min_width": null,
      "object_fit": null,
      "object_position": null,
      "order": null,
      "overflow": null,
      "overflow_x": null,
      "overflow_y": null,
      "padding": null,
      "right": null,
      "top": null,
      "visibility": null,
      "width": null
     }
    },
    "2e6ba418bca9435fbc53af1bdc8285c1": {
     "model_module": "@jupyter-widgets/base",
     "model_module_version": "1.2.0",
     "model_name": "LayoutModel",
     "state": {
      "_model_module": "@jupyter-widgets/base",
      "_model_module_version": "1.2.0",
      "_model_name": "LayoutModel",
      "_view_count": null,
      "_view_module": "@jupyter-widgets/base",
      "_view_module_version": "1.2.0",
      "_view_name": "LayoutView",
      "align_content": null,
      "align_items": null,
      "align_self": null,
      "border": null,
      "bottom": null,
      "display": null,
      "flex": null,
      "flex_flow": null,
      "grid_area": null,
      "grid_auto_columns": null,
      "grid_auto_flow": null,
      "grid_auto_rows": null,
      "grid_column": null,
      "grid_gap": null,
      "grid_row": null,
      "grid_template_areas": null,
      "grid_template_columns": null,
      "grid_template_rows": null,
      "height": null,
      "justify_content": null,
      "justify_items": null,
      "left": null,
      "margin": null,
      "max_height": null,
      "max_width": null,
      "min_height": null,
      "min_width": null,
      "object_fit": null,
      "object_position": null,
      "order": null,
      "overflow": null,
      "overflow_x": null,
      "overflow_y": null,
      "padding": null,
      "right": null,
      "top": null,
      "visibility": null,
      "width": null
     }
    },
    "30249214142241cd88f8592faa552270": {
     "model_module": "@jupyter-widgets/controls",
     "model_module_version": "1.5.0",
     "model_name": "FloatProgressModel",
     "state": {
      "_dom_classes": [],
      "_model_module": "@jupyter-widgets/controls",
      "_model_module_version": "1.5.0",
      "_model_name": "FloatProgressModel",
      "_view_count": null,
      "_view_module": "@jupyter-widgets/controls",
      "_view_module_version": "1.5.0",
      "_view_name": "ProgressView",
      "bar_style": "success",
      "description": "",
      "description_tooltip": null,
      "layout": "IPY_MODEL_be0e7026daad4bf7b8a6f9a00daacf47",
      "max": 1,
      "min": 0,
      "orientation": "horizontal",
      "style": "IPY_MODEL_befe5686271f4b289b5af3097fd58324",
      "value": 1
     }
    },
    "3053d58643584ff6988c698bd236b39b": {
     "model_module": "@jupyter-widgets/controls",
     "model_module_version": "1.5.0",
     "model_name": "FloatProgressModel",
     "state": {
      "_dom_classes": [],
      "_model_module": "@jupyter-widgets/controls",
      "_model_module_version": "1.5.0",
      "_model_name": "FloatProgressModel",
      "_view_count": null,
      "_view_module": "@jupyter-widgets/controls",
      "_view_module_version": "1.5.0",
      "_view_name": "ProgressView",
      "bar_style": "success",
      "description": "",
      "description_tooltip": null,
      "layout": "IPY_MODEL_e4f1f29b1a894580b33fb138d6ccdc7b",
      "max": 1,
      "min": 0,
      "orientation": "horizontal",
      "style": "IPY_MODEL_5e342c303ccb451e9b6f27d153fccfd0",
      "value": 1
     }
    },
    "32ef48a66018498199985eab656adfbe": {
     "model_module": "@jupyter-widgets/controls",
     "model_module_version": "1.5.0",
     "model_name": "HTMLModel",
     "state": {
      "_dom_classes": [],
      "_model_module": "@jupyter-widgets/controls",
      "_model_module_version": "1.5.0",
      "_model_name": "HTMLModel",
      "_view_count": null,
      "_view_module": "@jupyter-widgets/controls",
      "_view_module_version": "1.5.0",
      "_view_name": "HTMLView",
      "description": "",
      "description_tooltip": null,
      "layout": "IPY_MODEL_2e6ba418bca9435fbc53af1bdc8285c1",
      "placeholder": "​",
      "style": "IPY_MODEL_b774bf846d1b47879597e8ab3b680096",
      "value": " [100%]   00:03 -&gt; (00:00 left)"
     }
    },
    "4404ec509c90450887e71eed9249ea3d": {
     "model_module": "@jupyter-widgets/controls",
     "model_module_version": "1.5.0",
     "model_name": "HTMLModel",
     "state": {
      "_dom_classes": [],
      "_model_module": "@jupyter-widgets/controls",
      "_model_module_version": "1.5.0",
      "_model_name": "HTMLModel",
      "_view_count": null,
      "_view_module": "@jupyter-widgets/controls",
      "_view_module_version": "1.5.0",
      "_view_name": "HTMLView",
      "description": "",
      "description_tooltip": null,
      "layout": "IPY_MODEL_d4ee4c31b09149bf9afe9e6de444ec57",
      "placeholder": "​",
      "style": "IPY_MODEL_d3dd60fe61094cccb93f17ed03ab4621",
      "value": " [100%]   00:04 -&gt; (00:00 left)"
     }
    },
    "5e342c303ccb451e9b6f27d153fccfd0": {
     "model_module": "@jupyter-widgets/controls",
     "model_module_version": "1.5.0",
     "model_name": "ProgressStyleModel",
     "state": {
      "_model_module": "@jupyter-widgets/controls",
      "_model_module_version": "1.5.0",
      "_model_name": "ProgressStyleModel",
      "_view_count": null,
      "_view_module": "@jupyter-widgets/base",
      "_view_module_version": "1.2.0",
      "_view_name": "StyleView",
      "bar_color": null,
      "description_width": ""
     }
    },
    "9f0c322d74ac475fa0f0af6a110a1c80": {
     "model_module": "@jupyter-widgets/controls",
     "model_module_version": "1.5.0",
     "model_name": "HBoxModel",
     "state": {
      "_dom_classes": [],
      "_model_module": "@jupyter-widgets/controls",
      "_model_module_version": "1.5.0",
      "_model_name": "HBoxModel",
      "_view_count": null,
      "_view_module": "@jupyter-widgets/controls",
      "_view_module_version": "1.5.0",
      "_view_name": "HBoxView",
      "box_style": "",
      "children": [
       "IPY_MODEL_c372718b852f4381b88df9826fe31dd1",
       "IPY_MODEL_30249214142241cd88f8592faa552270",
       "IPY_MODEL_32ef48a66018498199985eab656adfbe"
      ],
      "layout": "IPY_MODEL_b7a0c2278fca47f2b72d197ae03d3b1b"
     }
    },
    "9f3d4772e48e45f0a930a9ca4fd31fd7": {
     "model_module": "@jupyter-widgets/base",
     "model_module_version": "1.2.0",
     "model_name": "LayoutModel",
     "state": {
      "_model_module": "@jupyter-widgets/base",
      "_model_module_version": "1.2.0",
      "_model_name": "LayoutModel",
      "_view_count": null,
      "_view_module": "@jupyter-widgets/base",
      "_view_module_version": "1.2.0",
      "_view_name": "LayoutView",
      "align_content": null,
      "align_items": null,
      "align_self": null,
      "border": null,
      "bottom": null,
      "display": null,
      "flex": null,
      "flex_flow": null,
      "grid_area": null,
      "grid_auto_columns": null,
      "grid_auto_flow": null,
      "grid_auto_rows": null,
      "grid_column": null,
      "grid_gap": null,
      "grid_row": null,
      "grid_template_areas": null,
      "grid_template_columns": null,
      "grid_template_rows": null,
      "height": null,
      "justify_content": null,
      "justify_items": null,
      "left": null,
      "margin": null,
      "max_height": null,
      "max_width": null,
      "min_height": null,
      "min_width": null,
      "object_fit": null,
      "object_position": null,
      "order": null,
      "overflow": null,
      "overflow_x": null,
      "overflow_y": null,
      "padding": null,
      "right": null,
      "top": null,
      "visibility": null,
      "width": null
     }
    },
    "a15e7ba6ae5d48ea9dd368b9d824a223": {
     "model_module": "@jupyter-widgets/controls",
     "model_module_version": "1.5.0",
     "model_name": "HTMLModel",
     "state": {
      "_dom_classes": [],
      "_model_module": "@jupyter-widgets/controls",
      "_model_module_version": "1.5.0",
      "_model_name": "HTMLModel",
      "_view_count": null,
      "_view_module": "@jupyter-widgets/controls",
      "_view_module_version": "1.5.0",
      "_view_name": "HTMLView",
      "description": "",
      "description_tooltip": null,
      "layout": "IPY_MODEL_9f3d4772e48e45f0a930a9ca4fd31fd7",
      "placeholder": "​",
      "style": "IPY_MODEL_291555ad1df249ffbf867c9b41dc6057",
      "value": "Done! Use &#x27;show&#x27; commands to display/save.   "
     }
    },
    "b774bf846d1b47879597e8ab3b680096": {
     "model_module": "@jupyter-widgets/controls",
     "model_module_version": "1.5.0",
     "model_name": "DescriptionStyleModel",
     "state": {
      "_model_module": "@jupyter-widgets/controls",
      "_model_module_version": "1.5.0",
      "_model_name": "DescriptionStyleModel",
      "_view_count": null,
      "_view_module": "@jupyter-widgets/base",
      "_view_module_version": "1.2.0",
      "_view_name": "StyleView",
      "description_width": ""
     }
    },
    "b7a0c2278fca47f2b72d197ae03d3b1b": {
     "model_module": "@jupyter-widgets/base",
     "model_module_version": "1.2.0",
     "model_name": "LayoutModel",
     "state": {
      "_model_module": "@jupyter-widgets/base",
      "_model_module_version": "1.2.0",
      "_model_name": "LayoutModel",
      "_view_count": null,
      "_view_module": "@jupyter-widgets/base",
      "_view_module_version": "1.2.0",
      "_view_name": "LayoutView",
      "align_content": null,
      "align_items": null,
      "align_self": null,
      "border": null,
      "bottom": null,
      "display": "inline-flex",
      "flex": null,
      "flex_flow": "row wrap",
      "grid_area": null,
      "grid_auto_columns": null,
      "grid_auto_flow": null,
      "grid_auto_rows": null,
      "grid_column": null,
      "grid_gap": null,
      "grid_row": null,
      "grid_template_areas": null,
      "grid_template_columns": null,
      "grid_template_rows": null,
      "height": null,
      "justify_content": null,
      "justify_items": null,
      "left": null,
      "margin": null,
      "max_height": null,
      "max_width": null,
      "min_height": null,
      "min_width": null,
      "object_fit": null,
      "object_position": null,
      "order": null,
      "overflow": null,
      "overflow_x": null,
      "overflow_y": null,
      "padding": null,
      "right": null,
      "top": null,
      "visibility": null,
      "width": "100%"
     }
    },
    "be0e7026daad4bf7b8a6f9a00daacf47": {
     "model_module": "@jupyter-widgets/base",
     "model_module_version": "1.2.0",
     "model_name": "LayoutModel",
     "state": {
      "_model_module": "@jupyter-widgets/base",
      "_model_module_version": "1.2.0",
      "_model_name": "LayoutModel",
      "_view_count": null,
      "_view_module": "@jupyter-widgets/base",
      "_view_module_version": "1.2.0",
      "_view_name": "LayoutView",
      "align_content": null,
      "align_items": null,
      "align_self": null,
      "border": null,
      "bottom": null,
      "display": null,
      "flex": "2",
      "flex_flow": null,
      "grid_area": null,
      "grid_auto_columns": null,
      "grid_auto_flow": null,
      "grid_auto_rows": null,
      "grid_column": null,
      "grid_gap": null,
      "grid_row": null,
      "grid_template_areas": null,
      "grid_template_columns": null,
      "grid_template_rows": null,
      "height": null,
      "justify_content": null,
      "justify_items": null,
      "left": null,
      "margin": null,
      "max_height": null,
      "max_width": null,
      "min_height": null,
      "min_width": null,
      "object_fit": null,
      "object_position": null,
      "order": null,
      "overflow": null,
      "overflow_x": null,
      "overflow_y": null,
      "padding": null,
      "right": null,
      "top": null,
      "visibility": null,
      "width": null
     }
    },
    "befe5686271f4b289b5af3097fd58324": {
     "model_module": "@jupyter-widgets/controls",
     "model_module_version": "1.5.0",
     "model_name": "ProgressStyleModel",
     "state": {
      "_model_module": "@jupyter-widgets/controls",
      "_model_module_version": "1.5.0",
      "_model_name": "ProgressStyleModel",
      "_view_count": null,
      "_view_module": "@jupyter-widgets/base",
      "_view_module_version": "1.2.0",
      "_view_name": "StyleView",
      "bar_color": null,
      "description_width": ""
     }
    },
    "bf27f6a727eb49dc9f49a2cec8a8c08a": {
     "model_module": "@jupyter-widgets/controls",
     "model_module_version": "1.5.0",
     "model_name": "HBoxModel",
     "state": {
      "_dom_classes": [],
      "_model_module": "@jupyter-widgets/controls",
      "_model_module_version": "1.5.0",
      "_model_name": "HBoxModel",
      "_view_count": null,
      "_view_module": "@jupyter-widgets/controls",
      "_view_module_version": "1.5.0",
      "_view_name": "HBoxView",
      "box_style": "",
      "children": [
       "IPY_MODEL_a15e7ba6ae5d48ea9dd368b9d824a223",
       "IPY_MODEL_3053d58643584ff6988c698bd236b39b",
       "IPY_MODEL_4404ec509c90450887e71eed9249ea3d"
      ],
      "layout": "IPY_MODEL_19ab8e609b8c439690c3af7387c47e91"
     }
    },
    "c372718b852f4381b88df9826fe31dd1": {
     "model_module": "@jupyter-widgets/controls",
     "model_module_version": "1.5.0",
     "model_name": "HTMLModel",
     "state": {
      "_dom_classes": [],
      "_model_module": "@jupyter-widgets/controls",
      "_model_module_version": "1.5.0",
      "_model_name": "HTMLModel",
      "_view_count": null,
      "_view_module": "@jupyter-widgets/controls",
      "_view_module_version": "1.5.0",
      "_view_name": "HTMLView",
      "description": "",
      "description_tooltip": null,
      "layout": "IPY_MODEL_2b96f625c1ef4f5a83b90156805c6efd",
      "placeholder": "​",
      "style": "IPY_MODEL_d1b2956d47994328ae9a920d9ec79eeb",
      "value": "Done! Use &#x27;show&#x27; commands to display/save.   "
     }
    },
    "d1b2956d47994328ae9a920d9ec79eeb": {
     "model_module": "@jupyter-widgets/controls",
     "model_module_version": "1.5.0",
     "model_name": "DescriptionStyleModel",
     "state": {
      "_model_module": "@jupyter-widgets/controls",
      "_model_module_version": "1.5.0",
      "_model_name": "DescriptionStyleModel",
      "_view_count": null,
      "_view_module": "@jupyter-widgets/base",
      "_view_module_version": "1.2.0",
      "_view_name": "StyleView",
      "description_width": ""
     }
    },
    "d3dd60fe61094cccb93f17ed03ab4621": {
     "model_module": "@jupyter-widgets/controls",
     "model_module_version": "1.5.0",
     "model_name": "DescriptionStyleModel",
     "state": {
      "_model_module": "@jupyter-widgets/controls",
      "_model_module_version": "1.5.0",
      "_model_name": "DescriptionStyleModel",
      "_view_count": null,
      "_view_module": "@jupyter-widgets/base",
      "_view_module_version": "1.2.0",
      "_view_name": "StyleView",
      "description_width": ""
     }
    },
    "d4ee4c31b09149bf9afe9e6de444ec57": {
     "model_module": "@jupyter-widgets/base",
     "model_module_version": "1.2.0",
     "model_name": "LayoutModel",
     "state": {
      "_model_module": "@jupyter-widgets/base",
      "_model_module_version": "1.2.0",
      "_model_name": "LayoutModel",
      "_view_count": null,
      "_view_module": "@jupyter-widgets/base",
      "_view_module_version": "1.2.0",
      "_view_name": "LayoutView",
      "align_content": null,
      "align_items": null,
      "align_self": null,
      "border": null,
      "bottom": null,
      "display": null,
      "flex": null,
      "flex_flow": null,
      "grid_area": null,
      "grid_auto_columns": null,
      "grid_auto_flow": null,
      "grid_auto_rows": null,
      "grid_column": null,
      "grid_gap": null,
      "grid_row": null,
      "grid_template_areas": null,
      "grid_template_columns": null,
      "grid_template_rows": null,
      "height": null,
      "justify_content": null,
      "justify_items": null,
      "left": null,
      "margin": null,
      "max_height": null,
      "max_width": null,
      "min_height": null,
      "min_width": null,
      "object_fit": null,
      "object_position": null,
      "order": null,
      "overflow": null,
      "overflow_x": null,
      "overflow_y": null,
      "padding": null,
      "right": null,
      "top": null,
      "visibility": null,
      "width": null
     }
    },
    "e4f1f29b1a894580b33fb138d6ccdc7b": {
     "model_module": "@jupyter-widgets/base",
     "model_module_version": "1.2.0",
     "model_name": "LayoutModel",
     "state": {
      "_model_module": "@jupyter-widgets/base",
      "_model_module_version": "1.2.0",
      "_model_name": "LayoutModel",
      "_view_count": null,
      "_view_module": "@jupyter-widgets/base",
      "_view_module_version": "1.2.0",
      "_view_name": "LayoutView",
      "align_content": null,
      "align_items": null,
      "align_self": null,
      "border": null,
      "bottom": null,
      "display": null,
      "flex": "2",
      "flex_flow": null,
      "grid_area": null,
      "grid_auto_columns": null,
      "grid_auto_flow": null,
      "grid_auto_rows": null,
      "grid_column": null,
      "grid_gap": null,
      "grid_row": null,
      "grid_template_areas": null,
      "grid_template_columns": null,
      "grid_template_rows": null,
      "height": null,
      "justify_content": null,
      "justify_items": null,
      "left": null,
      "margin": null,
      "max_height": null,
      "max_width": null,
      "min_height": null,
      "min_width": null,
      "object_fit": null,
      "object_position": null,
      "order": null,
      "overflow": null,
      "overflow_x": null,
      "overflow_y": null,
      "padding": null,
      "right": null,
      "top": null,
      "visibility": null,
      "width": null
     }
    }
   }
  }
 },
 "nbformat": 4,
 "nbformat_minor": 4
}
